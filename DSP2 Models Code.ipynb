{
 "cells": [
  {
   "cell_type": "code",
   "execution_count": 152,
   "metadata": {},
   "outputs": [],
   "source": [
    "# step 1: import the libraries and upload the dataset \n",
    "import pandas as pd\n",
    "import numpy as np\n",
    "import matplotlib.pyplot as plt\n",
    "\n",
    "from sklearn.model_selection import train_test_split\n",
    "from sklearn import metrics\n",
    "from sklearn.metrics import ConfusionMatrixDisplay\n",
    "from sklearn.ensemble import RandomForestClassifier\n",
    "from sklearn.inspection import permutation_importance\n",
    "#below is a new package needed for this lab\n",
    "from ucimlrepo import fetch_ucirepo \n",
    "from sklearn.preprocessing import OneHotEncoder\n",
    "from sklearn.metrics import confusion_matrix, ConfusionMatrixDisplay\n",
    "from sklearn.model_selection import GridSearchCV\n",
    "\n",
    "import os\n",
    "\n",
    "os.chdir(\"/Users/lucaslisman/Desktop/DS J-Term/\")\n",
    "import seaborn as sns"
   ]
  },
  {
   "cell_type": "markdown",
   "metadata": {},
   "source": [
    "# Random Forest"
   ]
  },
  {
   "cell_type": "code",
   "execution_count": 153,
   "metadata": {},
   "outputs": [
    {
     "data": {
      "text/html": [
       "<div>\n",
       "<style scoped>\n",
       "    .dataframe tbody tr th:only-of-type {\n",
       "        vertical-align: middle;\n",
       "    }\n",
       "\n",
       "    .dataframe tbody tr th {\n",
       "        vertical-align: top;\n",
       "    }\n",
       "\n",
       "    .dataframe thead th {\n",
       "        text-align: right;\n",
       "    }\n",
       "</style>\n",
       "<table border=\"1\" class=\"dataframe\">\n",
       "  <thead>\n",
       "    <tr style=\"text-align: right;\">\n",
       "      <th></th>\n",
       "      <th>Unnamed: 0</th>\n",
       "      <th>ID</th>\n",
       "      <th>Severity</th>\n",
       "      <th>Start_Time</th>\n",
       "      <th>End_Time</th>\n",
       "      <th>Start_Lat</th>\n",
       "      <th>Start_Lng</th>\n",
       "      <th>End_Lat</th>\n",
       "      <th>End_Lng</th>\n",
       "      <th>Distance.mi.</th>\n",
       "      <th>...</th>\n",
       "      <th>Roundabout</th>\n",
       "      <th>Station</th>\n",
       "      <th>Stop</th>\n",
       "      <th>Traffic_Calming</th>\n",
       "      <th>Traffic_Signal</th>\n",
       "      <th>Turning_Loop</th>\n",
       "      <th>Sunrise_Sunset</th>\n",
       "      <th>Civil_Twilight</th>\n",
       "      <th>Nautical_Twilight</th>\n",
       "      <th>Astronomical_Twilight</th>\n",
       "    </tr>\n",
       "  </thead>\n",
       "  <tbody>\n",
       "    <tr>\n",
       "      <th>0</th>\n",
       "      <td>31910</td>\n",
       "      <td>A-31910</td>\n",
       "      <td>2</td>\n",
       "      <td>2016-12-01 12:19:37</td>\n",
       "      <td>2016-12-01 18:19:37</td>\n",
       "      <td>38.175522</td>\n",
       "      <td>-78.407423</td>\n",
       "      <td>38.164358</td>\n",
       "      <td>-78.414532</td>\n",
       "      <td>0.863</td>\n",
       "      <td>...</td>\n",
       "      <td>False</td>\n",
       "      <td>False</td>\n",
       "      <td>False</td>\n",
       "      <td>False</td>\n",
       "      <td>False</td>\n",
       "      <td>False</td>\n",
       "      <td>Day</td>\n",
       "      <td>Day</td>\n",
       "      <td>Day</td>\n",
       "      <td>Day</td>\n",
       "    </tr>\n",
       "    <tr>\n",
       "      <th>1</th>\n",
       "      <td>32851</td>\n",
       "      <td>A-32851</td>\n",
       "      <td>3</td>\n",
       "      <td>2016-12-05 09:25:43</td>\n",
       "      <td>2016-12-05 15:25:43</td>\n",
       "      <td>38.123890</td>\n",
       "      <td>-78.444780</td>\n",
       "      <td>38.123919</td>\n",
       "      <td>-78.444748</td>\n",
       "      <td>0.003</td>\n",
       "      <td>...</td>\n",
       "      <td>False</td>\n",
       "      <td>False</td>\n",
       "      <td>False</td>\n",
       "      <td>False</td>\n",
       "      <td>False</td>\n",
       "      <td>False</td>\n",
       "      <td>Day</td>\n",
       "      <td>Day</td>\n",
       "      <td>Day</td>\n",
       "      <td>Day</td>\n",
       "    </tr>\n",
       "    <tr>\n",
       "      <th>2</th>\n",
       "      <td>33648</td>\n",
       "      <td>A-33648</td>\n",
       "      <td>2</td>\n",
       "      <td>2016-12-07 07:33:53</td>\n",
       "      <td>2016-12-07 13:33:53</td>\n",
       "      <td>38.170954</td>\n",
       "      <td>-78.410337</td>\n",
       "      <td>38.163851</td>\n",
       "      <td>-78.414851</td>\n",
       "      <td>0.549</td>\n",
       "      <td>...</td>\n",
       "      <td>False</td>\n",
       "      <td>False</td>\n",
       "      <td>False</td>\n",
       "      <td>False</td>\n",
       "      <td>False</td>\n",
       "      <td>False</td>\n",
       "      <td>Day</td>\n",
       "      <td>Day</td>\n",
       "      <td>Day</td>\n",
       "      <td>Day</td>\n",
       "    </tr>\n",
       "    <tr>\n",
       "      <th>3</th>\n",
       "      <td>33670</td>\n",
       "      <td>A-33670</td>\n",
       "      <td>2</td>\n",
       "      <td>2016-12-07 07:49:21</td>\n",
       "      <td>2016-12-07 14:04:50</td>\n",
       "      <td>38.173332</td>\n",
       "      <td>-78.408818</td>\n",
       "      <td>38.163883</td>\n",
       "      <td>-78.414830</td>\n",
       "      <td>0.730</td>\n",
       "      <td>...</td>\n",
       "      <td>False</td>\n",
       "      <td>False</td>\n",
       "      <td>False</td>\n",
       "      <td>False</td>\n",
       "      <td>False</td>\n",
       "      <td>False</td>\n",
       "      <td>Day</td>\n",
       "      <td>Day</td>\n",
       "      <td>Day</td>\n",
       "      <td>Day</td>\n",
       "    </tr>\n",
       "    <tr>\n",
       "      <th>4</th>\n",
       "      <td>33689</td>\n",
       "      <td>A-33689</td>\n",
       "      <td>2</td>\n",
       "      <td>2016-12-07 08:37:45</td>\n",
       "      <td>2016-12-07 14:37:45</td>\n",
       "      <td>38.034930</td>\n",
       "      <td>-78.606930</td>\n",
       "      <td>38.032470</td>\n",
       "      <td>-78.598830</td>\n",
       "      <td>0.472</td>\n",
       "      <td>...</td>\n",
       "      <td>False</td>\n",
       "      <td>False</td>\n",
       "      <td>False</td>\n",
       "      <td>False</td>\n",
       "      <td>False</td>\n",
       "      <td>False</td>\n",
       "      <td>Day</td>\n",
       "      <td>Day</td>\n",
       "      <td>Day</td>\n",
       "      <td>Day</td>\n",
       "    </tr>\n",
       "  </tbody>\n",
       "</table>\n",
       "<p>5 rows × 48 columns</p>\n",
       "</div>"
      ],
      "text/plain": [
       "   Unnamed: 0       ID  Severity           Start_Time             End_Time  \\\n",
       "0       31910  A-31910         2  2016-12-01 12:19:37  2016-12-01 18:19:37   \n",
       "1       32851  A-32851         3  2016-12-05 09:25:43  2016-12-05 15:25:43   \n",
       "2       33648  A-33648         2  2016-12-07 07:33:53  2016-12-07 13:33:53   \n",
       "3       33670  A-33670         2  2016-12-07 07:49:21  2016-12-07 14:04:50   \n",
       "4       33689  A-33689         2  2016-12-07 08:37:45  2016-12-07 14:37:45   \n",
       "\n",
       "   Start_Lat  Start_Lng    End_Lat    End_Lng  Distance.mi.  ... Roundabout  \\\n",
       "0  38.175522 -78.407423  38.164358 -78.414532         0.863  ...      False   \n",
       "1  38.123890 -78.444780  38.123919 -78.444748         0.003  ...      False   \n",
       "2  38.170954 -78.410337  38.163851 -78.414851         0.549  ...      False   \n",
       "3  38.173332 -78.408818  38.163883 -78.414830         0.730  ...      False   \n",
       "4  38.034930 -78.606930  38.032470 -78.598830         0.472  ...      False   \n",
       "\n",
       "   Station   Stop Traffic_Calming Traffic_Signal Turning_Loop Sunrise_Sunset  \\\n",
       "0    False  False           False          False        False            Day   \n",
       "1    False  False           False          False        False            Day   \n",
       "2    False  False           False          False        False            Day   \n",
       "3    False  False           False          False        False            Day   \n",
       "4    False  False           False          False        False            Day   \n",
       "\n",
       "  Civil_Twilight Nautical_Twilight Astronomical_Twilight  \n",
       "0            Day               Day                   Day  \n",
       "1            Day               Day                   Day  \n",
       "2            Day               Day                   Day  \n",
       "3            Day               Day                   Day  \n",
       "4            Day               Day                   Day  \n",
       "\n",
       "[5 rows x 48 columns]"
      ]
     },
     "execution_count": 153,
     "metadata": {},
     "output_type": "execute_result"
    }
   ],
   "source": [
    "# open the dataset.csv file \n",
    "accidents = pd.read_csv('cville_accidentsModel.csv')\n",
    "# inspect the types of each column\n",
    "accidents.dtypes\n",
    "accidents.head()"
   ]
  },
  {
   "cell_type": "code",
   "execution_count": 154,
   "metadata": {},
   "outputs": [
    {
     "name": "stdout",
     "output_type": "stream",
     "text": [
      "<class 'pandas.core.frame.DataFrame'>\n",
      "Int64Index: 875 entries, 87 to 2039\n",
      "Data columns (total 48 columns):\n",
      " #   Column                 Non-Null Count  Dtype  \n",
      "---  ------                 --------------  -----  \n",
      " 0   Unnamed: 0             875 non-null    int64  \n",
      " 1   ID                     875 non-null    object \n",
      " 2   Severity               875 non-null    int64  \n",
      " 3   Start_Time             875 non-null    object \n",
      " 4   End_Time               875 non-null    object \n",
      " 5   Start_Lat              875 non-null    float64\n",
      " 6   Start_Lng              875 non-null    float64\n",
      " 7   End_Lat                875 non-null    float64\n",
      " 8   End_Lng                875 non-null    float64\n",
      " 9   Distance.mi.           875 non-null    float64\n",
      " 10  Description            875 non-null    object \n",
      " 11  Number                 875 non-null    float64\n",
      " 12  Street                 875 non-null    object \n",
      " 13  Side                   875 non-null    object \n",
      " 14  City                   875 non-null    object \n",
      " 15  County                 875 non-null    object \n",
      " 16  State                  875 non-null    object \n",
      " 17  Zipcode                875 non-null    object \n",
      " 18  Country                875 non-null    object \n",
      " 19  Timezone               875 non-null    object \n",
      " 20  Airport_Code           875 non-null    object \n",
      " 21  Weather_Timestamp      875 non-null    object \n",
      " 22  Temperature.F.         875 non-null    float64\n",
      " 23  Wind_Chill.F.          875 non-null    float64\n",
      " 24  Humidity...            875 non-null    float64\n",
      " 25  Pressure.in.           875 non-null    float64\n",
      " 26  Visibility.mi.         875 non-null    float64\n",
      " 27  Wind_Direction         875 non-null    object \n",
      " 28  Wind_Speed.mph.        875 non-null    float64\n",
      " 29  Precipitation.in.      875 non-null    float64\n",
      " 30  Weather_Condition      875 non-null    object \n",
      " 31  Amenity                875 non-null    bool   \n",
      " 32  Bump                   875 non-null    bool   \n",
      " 33  Crossing               875 non-null    bool   \n",
      " 34  Give_Way               875 non-null    bool   \n",
      " 35  Junction               875 non-null    bool   \n",
      " 36  No_Exit                875 non-null    bool   \n",
      " 37  Railway                875 non-null    bool   \n",
      " 38  Roundabout             875 non-null    bool   \n",
      " 39  Station                875 non-null    bool   \n",
      " 40  Stop                   875 non-null    bool   \n",
      " 41  Traffic_Calming        875 non-null    bool   \n",
      " 42  Traffic_Signal         875 non-null    bool   \n",
      " 43  Turning_Loop           875 non-null    bool   \n",
      " 44  Sunrise_Sunset         875 non-null    object \n",
      " 45  Civil_Twilight         875 non-null    object \n",
      " 46  Nautical_Twilight      875 non-null    object \n",
      " 47  Astronomical_Twilight  875 non-null    object \n",
      "dtypes: bool(13), float64(13), int64(2), object(20)\n",
      "memory usage: 257.2+ KB\n"
     ]
    }
   ],
   "source": [
    "# check how many nas \n",
    "accidents.isna().sum()\n",
    "# not too many nas, so we can drop them \n",
    "accidents = accidents.dropna()\n",
    "accidents.info()"
   ]
  },
  {
   "cell_type": "code",
   "execution_count": 155,
   "metadata": {},
   "outputs": [],
   "source": [
    "accidents = accidents.drop([\"Unnamed: 0\",\"Start_Lat\",\"Start_Lng\", \"End_Lat\",\"End_Lng\",\"ID\",\"Start_Time\",\"End_Time\",\"Street\", \"City\", \"County\", \"Zipcode\",\"Weather_Timestamp\",\"Description\", \"Number\",\"State\",\"Country\",\"Airport_Code\",\"Timezone\",\"Amenity\",\"Bump\",\"Give_Way\",\"No_Exit\",\"Railway\",\"Roundabout\",\"Station\",\"Traffic_Calming\",\"Turning_Loop\"],axis=1)"
   ]
  },
  {
   "cell_type": "code",
   "execution_count": 156,
   "metadata": {},
   "outputs": [
    {
     "name": "stdout",
     "output_type": "stream",
     "text": [
      "<class 'pandas.core.frame.DataFrame'>\n",
      "Int64Index: 875 entries, 87 to 2039\n",
      "Data columns (total 20 columns):\n",
      " #   Column                 Non-Null Count  Dtype  \n",
      "---  ------                 --------------  -----  \n",
      " 0   Severity               875 non-null    int64  \n",
      " 1   Distance.mi.           875 non-null    float64\n",
      " 2   Side                   875 non-null    object \n",
      " 3   Temperature.F.         875 non-null    float64\n",
      " 4   Wind_Chill.F.          875 non-null    float64\n",
      " 5   Humidity...            875 non-null    float64\n",
      " 6   Pressure.in.           875 non-null    float64\n",
      " 7   Visibility.mi.         875 non-null    float64\n",
      " 8   Wind_Direction         875 non-null    object \n",
      " 9   Wind_Speed.mph.        875 non-null    float64\n",
      " 10  Precipitation.in.      875 non-null    float64\n",
      " 11  Weather_Condition      875 non-null    object \n",
      " 12  Crossing               875 non-null    bool   \n",
      " 13  Junction               875 non-null    bool   \n",
      " 14  Stop                   875 non-null    bool   \n",
      " 15  Traffic_Signal         875 non-null    bool   \n",
      " 16  Sunrise_Sunset         875 non-null    object \n",
      " 17  Civil_Twilight         875 non-null    object \n",
      " 18  Nautical_Twilight      875 non-null    object \n",
      " 19  Astronomical_Twilight  875 non-null    object \n",
      "dtypes: bool(4), float64(8), int64(1), object(7)\n",
      "memory usage: 119.6+ KB\n"
     ]
    }
   ],
   "source": [
    "accidents.info()"
   ]
  },
  {
   "cell_type": "code",
   "execution_count": 157,
   "metadata": {},
   "outputs": [],
   "source": [
    "#### Make variables categorical\n",
    "accidents['Side'] = accidents['Side'].astype(\"category\")\n",
    "\n",
    "accidents['Wind_Direction'] = accidents['Wind_Direction'].astype(\"category\")\n",
    "\n",
    "accidents['Weather_Condition'] = accidents['Weather_Condition'].astype(\"category\")\n",
    "\n",
    "accidents['Crossing'] = accidents['Crossing'].astype(\"category\")\n",
    "\n",
    "accidents['Junction'] = accidents['Junction'].astype(\"category\")\n",
    "\n",
    "accidents['Traffic_Signal'] = accidents['Traffic_Signal'].astype(\"category\")\n",
    "\n",
    "accidents['Sunrise_Sunset'] = accidents['Sunrise_Sunset'].astype(\"category\")\n",
    "\n",
    "accidents['Civil_Twilight'] = accidents['Civil_Twilight'].astype(\"category\")\n",
    "\n",
    "accidents['Nautical_Twilight'] = accidents['Nautical_Twilight'].astype(\"category\")\n",
    "\n",
    "accidents['Astronomical_Twilight'] = accidents['Astronomical_Twilight'].astype(\"category\")\n",
    "\n",
    "accidents['Stop'] = accidents['Stop'].astype(\"category\")\n",
    "\n"
   ]
  },
  {
   "cell_type": "code",
   "execution_count": 158,
   "metadata": {},
   "outputs": [
    {
     "name": "stdout",
     "output_type": "stream",
     "text": [
      "<class 'pandas.core.frame.DataFrame'>\n",
      "Int64Index: 875 entries, 87 to 2039\n",
      "Data columns (total 20 columns):\n",
      " #   Column                 Non-Null Count  Dtype   \n",
      "---  ------                 --------------  -----   \n",
      " 0   Severity               875 non-null    int64   \n",
      " 1   Distance.mi.           875 non-null    float64 \n",
      " 2   Side                   875 non-null    category\n",
      " 3   Temperature.F.         875 non-null    float64 \n",
      " 4   Wind_Chill.F.          875 non-null    float64 \n",
      " 5   Humidity...            875 non-null    float64 \n",
      " 6   Pressure.in.           875 non-null    float64 \n",
      " 7   Visibility.mi.         875 non-null    float64 \n",
      " 8   Wind_Direction         875 non-null    category\n",
      " 9   Wind_Speed.mph.        875 non-null    float64 \n",
      " 10  Precipitation.in.      875 non-null    float64 \n",
      " 11  Weather_Condition      875 non-null    category\n",
      " 12  Crossing               875 non-null    category\n",
      " 13  Junction               875 non-null    category\n",
      " 14  Stop                   875 non-null    category\n",
      " 15  Traffic_Signal         875 non-null    category\n",
      " 16  Sunrise_Sunset         875 non-null    category\n",
      " 17  Civil_Twilight         875 non-null    category\n",
      " 18  Nautical_Twilight      875 non-null    category\n",
      " 19  Astronomical_Twilight  875 non-null    category\n",
      "dtypes: category(11), float64(8), int64(1)\n",
      "memory usage: 80.0 KB\n"
     ]
    }
   ],
   "source": [
    "accidents.info()"
   ]
  },
  {
   "cell_type": "code",
   "execution_count": 159,
   "metadata": {},
   "outputs": [],
   "source": [
    "accidents2 = accidents.drop([\"Weather_Condition\", \"Wind_Direction\", \"Stop\", \"Junction\"],axis = 1)"
   ]
  },
  {
   "cell_type": "code",
   "execution_count": 160,
   "metadata": {},
   "outputs": [
    {
     "name": "stdout",
     "output_type": "stream",
     "text": [
      "<class 'pandas.core.frame.DataFrame'>\n",
      "Int64Index: 875 entries, 87 to 2039\n",
      "Data columns (total 16 columns):\n",
      " #   Column                 Non-Null Count  Dtype   \n",
      "---  ------                 --------------  -----   \n",
      " 0   Severity               875 non-null    int64   \n",
      " 1   Distance.mi.           875 non-null    float64 \n",
      " 2   Side                   875 non-null    category\n",
      " 3   Temperature.F.         875 non-null    float64 \n",
      " 4   Wind_Chill.F.          875 non-null    float64 \n",
      " 5   Humidity...            875 non-null    float64 \n",
      " 6   Pressure.in.           875 non-null    float64 \n",
      " 7   Visibility.mi.         875 non-null    float64 \n",
      " 8   Wind_Speed.mph.        875 non-null    float64 \n",
      " 9   Precipitation.in.      875 non-null    float64 \n",
      " 10  Crossing               875 non-null    category\n",
      " 11  Traffic_Signal         875 non-null    category\n",
      " 12  Sunrise_Sunset         875 non-null    category\n",
      " 13  Civil_Twilight         875 non-null    category\n",
      " 14  Nautical_Twilight      875 non-null    category\n",
      " 15  Astronomical_Twilight  875 non-null    category\n",
      "dtypes: category(7), float64(8), int64(1)\n",
      "memory usage: 75.1 KB\n"
     ]
    }
   ],
   "source": [
    "accidents2.info()"
   ]
  },
  {
   "cell_type": "code",
   "execution_count": 161,
   "metadata": {},
   "outputs": [],
   "source": [
    "accidents2[\"Distance\"] = accidents2[\"Distance.mi.\"]"
   ]
  },
  {
   "cell_type": "code",
   "execution_count": 162,
   "metadata": {},
   "outputs": [],
   "source": [
    "accidents2 = accidents2.drop([\"Distance.mi.\"], axis = 1)"
   ]
  },
  {
   "cell_type": "code",
   "execution_count": 163,
   "metadata": {},
   "outputs": [
    {
     "data": {
      "text/html": [
       "<div>\n",
       "<style scoped>\n",
       "    .dataframe tbody tr th:only-of-type {\n",
       "        vertical-align: middle;\n",
       "    }\n",
       "\n",
       "    .dataframe tbody tr th {\n",
       "        vertical-align: top;\n",
       "    }\n",
       "\n",
       "    .dataframe thead th {\n",
       "        text-align: right;\n",
       "    }\n",
       "</style>\n",
       "<table border=\"1\" class=\"dataframe\">\n",
       "  <thead>\n",
       "    <tr style=\"text-align: right;\">\n",
       "      <th></th>\n",
       "      <th>Severity</th>\n",
       "      <th>Distance.mi.</th>\n",
       "      <th>Side</th>\n",
       "      <th>Temperature.F.</th>\n",
       "      <th>Wind_Chill.F.</th>\n",
       "      <th>Humidity...</th>\n",
       "      <th>Pressure.in.</th>\n",
       "      <th>Visibility.mi.</th>\n",
       "      <th>Wind_Direction</th>\n",
       "      <th>Wind_Speed.mph.</th>\n",
       "      <th>Precipitation.in.</th>\n",
       "      <th>Weather_Condition</th>\n",
       "      <th>Crossing</th>\n",
       "      <th>Junction</th>\n",
       "      <th>Stop</th>\n",
       "      <th>Traffic_Signal</th>\n",
       "      <th>Sunrise_Sunset</th>\n",
       "      <th>Civil_Twilight</th>\n",
       "      <th>Nautical_Twilight</th>\n",
       "      <th>Astronomical_Twilight</th>\n",
       "    </tr>\n",
       "  </thead>\n",
       "  <tbody>\n",
       "    <tr>\n",
       "      <th>87</th>\n",
       "      <td>2</td>\n",
       "      <td>0.078</td>\n",
       "      <td>R</td>\n",
       "      <td>60.0</td>\n",
       "      <td>60.0</td>\n",
       "      <td>93.0</td>\n",
       "      <td>28.82</td>\n",
       "      <td>2.0</td>\n",
       "      <td>N</td>\n",
       "      <td>3.0</td>\n",
       "      <td>0.09</td>\n",
       "      <td>Rain</td>\n",
       "      <td>False</td>\n",
       "      <td>False</td>\n",
       "      <td>False</td>\n",
       "      <td>False</td>\n",
       "      <td>Day</td>\n",
       "      <td>Day</td>\n",
       "      <td>Day</td>\n",
       "      <td>Day</td>\n",
       "    </tr>\n",
       "    <tr>\n",
       "      <th>88</th>\n",
       "      <td>2</td>\n",
       "      <td>0.028</td>\n",
       "      <td>L</td>\n",
       "      <td>80.0</td>\n",
       "      <td>80.0</td>\n",
       "      <td>45.0</td>\n",
       "      <td>29.42</td>\n",
       "      <td>10.0</td>\n",
       "      <td>E</td>\n",
       "      <td>9.0</td>\n",
       "      <td>0.00</td>\n",
       "      <td>Fair</td>\n",
       "      <td>False</td>\n",
       "      <td>False</td>\n",
       "      <td>False</td>\n",
       "      <td>False</td>\n",
       "      <td>Day</td>\n",
       "      <td>Day</td>\n",
       "      <td>Day</td>\n",
       "      <td>Day</td>\n",
       "    </tr>\n",
       "    <tr>\n",
       "      <th>89</th>\n",
       "      <td>4</td>\n",
       "      <td>0.047</td>\n",
       "      <td>L</td>\n",
       "      <td>84.0</td>\n",
       "      <td>84.0</td>\n",
       "      <td>44.0</td>\n",
       "      <td>29.33</td>\n",
       "      <td>10.0</td>\n",
       "      <td>S</td>\n",
       "      <td>7.0</td>\n",
       "      <td>0.00</td>\n",
       "      <td>Fair</td>\n",
       "      <td>False</td>\n",
       "      <td>False</td>\n",
       "      <td>False</td>\n",
       "      <td>False</td>\n",
       "      <td>Day</td>\n",
       "      <td>Day</td>\n",
       "      <td>Day</td>\n",
       "      <td>Day</td>\n",
       "    </tr>\n",
       "    <tr>\n",
       "      <th>90</th>\n",
       "      <td>2</td>\n",
       "      <td>0.105</td>\n",
       "      <td>R</td>\n",
       "      <td>51.0</td>\n",
       "      <td>51.0</td>\n",
       "      <td>22.0</td>\n",
       "      <td>29.60</td>\n",
       "      <td>10.0</td>\n",
       "      <td>CALM</td>\n",
       "      <td>0.0</td>\n",
       "      <td>0.00</td>\n",
       "      <td>Fair</td>\n",
       "      <td>False</td>\n",
       "      <td>False</td>\n",
       "      <td>False</td>\n",
       "      <td>False</td>\n",
       "      <td>Day</td>\n",
       "      <td>Day</td>\n",
       "      <td>Day</td>\n",
       "      <td>Day</td>\n",
       "    </tr>\n",
       "    <tr>\n",
       "      <th>94</th>\n",
       "      <td>2</td>\n",
       "      <td>0.175</td>\n",
       "      <td>R</td>\n",
       "      <td>89.0</td>\n",
       "      <td>89.0</td>\n",
       "      <td>50.0</td>\n",
       "      <td>29.29</td>\n",
       "      <td>10.0</td>\n",
       "      <td>VAR</td>\n",
       "      <td>3.0</td>\n",
       "      <td>0.00</td>\n",
       "      <td>Fair</td>\n",
       "      <td>False</td>\n",
       "      <td>False</td>\n",
       "      <td>False</td>\n",
       "      <td>True</td>\n",
       "      <td>Day</td>\n",
       "      <td>Day</td>\n",
       "      <td>Day</td>\n",
       "      <td>Day</td>\n",
       "    </tr>\n",
       "  </tbody>\n",
       "</table>\n",
       "</div>"
      ],
      "text/plain": [
       "    Severity  Distance.mi. Side  Temperature.F.  Wind_Chill.F.  Humidity...  \\\n",
       "87         2         0.078    R            60.0           60.0         93.0   \n",
       "88         2         0.028    L            80.0           80.0         45.0   \n",
       "89         4         0.047    L            84.0           84.0         44.0   \n",
       "90         2         0.105    R            51.0           51.0         22.0   \n",
       "94         2         0.175    R            89.0           89.0         50.0   \n",
       "\n",
       "    Pressure.in.  Visibility.mi. Wind_Direction  Wind_Speed.mph.  \\\n",
       "87         28.82             2.0              N              3.0   \n",
       "88         29.42            10.0              E              9.0   \n",
       "89         29.33            10.0              S              7.0   \n",
       "90         29.60            10.0           CALM              0.0   \n",
       "94         29.29            10.0            VAR              3.0   \n",
       "\n",
       "    Precipitation.in. Weather_Condition Crossing Junction   Stop  \\\n",
       "87               0.09              Rain    False    False  False   \n",
       "88               0.00              Fair    False    False  False   \n",
       "89               0.00              Fair    False    False  False   \n",
       "90               0.00              Fair    False    False  False   \n",
       "94               0.00              Fair    False    False  False   \n",
       "\n",
       "   Traffic_Signal Sunrise_Sunset Civil_Twilight Nautical_Twilight  \\\n",
       "87          False            Day            Day               Day   \n",
       "88          False            Day            Day               Day   \n",
       "89          False            Day            Day               Day   \n",
       "90          False            Day            Day               Day   \n",
       "94           True            Day            Day               Day   \n",
       "\n",
       "   Astronomical_Twilight  \n",
       "87                   Day  \n",
       "88                   Day  \n",
       "89                   Day  \n",
       "90                   Day  \n",
       "94                   Day  "
      ]
     },
     "execution_count": 163,
     "metadata": {},
     "output_type": "execute_result"
    }
   ],
   "source": [
    "accidents.head()"
   ]
  },
  {
   "cell_type": "code",
   "execution_count": 164,
   "metadata": {},
   "outputs": [
    {
     "name": "stderr",
     "output_type": "stream",
     "text": [
      "/var/folders/gz/7h0l2_4j6fld7vp7x2k94bhr0000gn/T/ipykernel_88520/4077005793.py:3: FutureWarning: The default value of numeric_only in DataFrame.corr is deprecated. In a future version, it will default to False. Select only valid columns or specify the value of numeric_only to silence this warning.\n",
      "  corr =accidents.corr()\n"
     ]
    },
    {
     "data": {
      "text/plain": [
       "<Axes: >"
      ]
     },
     "execution_count": 164,
     "metadata": {},
     "output_type": "execute_result"
    },
    {
     "data": {
      "image/png": "[encoded data removed]",
      "text/plain": [
       "<Figure size 1600x800 with 2 Axes>"
      ]
     },
     "metadata": {},
     "output_type": "display_data"
    }
   ],
   "source": [
    "plt.figure(figsize=(16, 8))\n",
    "sns.set(style=\"whitegrid\")\n",
    "corr =accidents.corr()\n",
    "sns.heatmap(corr,annot=True, cmap=\"YlGnBu\")"
   ]
  },
  {
   "cell_type": "code",
   "execution_count": 165,
   "metadata": {},
   "outputs": [
    {
     "name": "stdout",
     "output_type": "stream",
     "text": [
      "                                 \u001b[1mNumeric Features Distribution                                  \n"
     ]
    },
    {
     "data": {
      "image/png": "[encoded data removed]",
      "text/plain": [
       "<Figure size 1500x1200 with 8 Axes>"
      ]
     },
     "metadata": {},
     "output_type": "display_data"
    }
   ],
   "source": [
    "import math\n",
    "\n",
    "\n",
    "target_column = 'Severity'\n",
    "numerical_features = accidents.select_dtypes(include=['int64', 'float64']).columns\n",
    "numerical_features = numerical_features.drop(target_column)\n",
    "\n",
    "\n",
    "print('\\033[1mNumeric Features Distribution'.center(100))\n",
    "\n",
    "# Define number of subplots per row\n",
    "subplots_per_row = 3\n",
    "num_rows = math.ceil(len(numerical_features) / subplots_per_row)\n",
    "\n",
    "plt.figure(figsize=[15, 4 * num_rows])\n",
    "\n",
    "for i, feature in enumerate(numerical_features):\n",
    "    plt.subplot(num_rows, subplots_per_row, i + 1)\n",
    "    sns.histplot(\n",
    "        accidents[feature],\n",
    "        kde=True,  # Add a kernel density estimate\n",
    "        color=list(np.random.randint([255, 255, 255]) / 255),\n",
    "        edgecolor=\"black\", \n",
    "        linewidth=2,\n",
    "        bins=10\n",
    "    )\n",
    "\n",
    "plt.tight_layout()\n",
    "plt.show()\n"
   ]
  },
  {
   "cell_type": "code",
   "execution_count": 166,
   "metadata": {},
   "outputs": [
    {
     "data": {
      "image/png": "[encoded data removed]",
      "text/plain": [
       "<Figure size 800x600 with 1 Axes>"
      ]
     },
     "metadata": {},
     "output_type": "display_data"
    }
   ],
   "source": [
    "plt.figure(figsize=(8, 6))\n",
    "sns.histplot(accidents[\"Severity\"], bins=30, kde=True)\n",
    "plt.title(\"Distribution of Severity\")\n",
    "plt.xlabel(\"Severity\")\n",
    "plt.ylabel(\"Frequency\")\n",
    "plt.show()"
   ]
  },
  {
   "cell_type": "code",
   "execution_count": 167,
   "metadata": {},
   "outputs": [
    {
     "name": "stdout",
     "output_type": "stream",
     "text": [
      "Index(['Side', 'Wind_Direction', 'Weather_Condition', 'Crossing', 'Junction',\n",
      "       'Stop', 'Traffic_Signal', 'Sunrise_Sunset', 'Civil_Twilight',\n",
      "       'Nautical_Twilight', 'Astronomical_Twilight'],\n",
      "      dtype='object')\n",
      "<class 'pandas.core.frame.DataFrame'>\n",
      "Int64Index: 875 entries, 87 to 2039\n",
      "Data columns (total 61 columns):\n",
      " #   Column                                     Non-Null Count  Dtype  \n",
      "---  ------                                     --------------  -----  \n",
      " 0   Severity                                   875 non-null    int64  \n",
      " 1   Distance.mi.                               875 non-null    float64\n",
      " 2   Temperature.F.                             875 non-null    float64\n",
      " 3   Wind_Chill.F.                              875 non-null    float64\n",
      " 4   Humidity...                                875 non-null    float64\n",
      " 5   Pressure.in.                               875 non-null    float64\n",
      " 6   Visibility.mi.                             875 non-null    float64\n",
      " 7   Wind_Speed.mph.                            875 non-null    float64\n",
      " 8   Precipitation.in.                          875 non-null    float64\n",
      " 9   Side_L                                     875 non-null    uint8  \n",
      " 10  Side_R                                     875 non-null    uint8  \n",
      " 11  Wind_Direction_CALM                        875 non-null    uint8  \n",
      " 12  Wind_Direction_E                           875 non-null    uint8  \n",
      " 13  Wind_Direction_ENE                         875 non-null    uint8  \n",
      " 14  Wind_Direction_ESE                         875 non-null    uint8  \n",
      " 15  Wind_Direction_N                           875 non-null    uint8  \n",
      " 16  Wind_Direction_NE                          875 non-null    uint8  \n",
      " 17  Wind_Direction_NNE                         875 non-null    uint8  \n",
      " 18  Wind_Direction_NNW                         875 non-null    uint8  \n",
      " 19  Wind_Direction_NW                          875 non-null    uint8  \n",
      " 20  Wind_Direction_S                           875 non-null    uint8  \n",
      " 21  Wind_Direction_SE                          875 non-null    uint8  \n",
      " 22  Wind_Direction_SSE                         875 non-null    uint8  \n",
      " 23  Wind_Direction_SSW                         875 non-null    uint8  \n",
      " 24  Wind_Direction_SW                          875 non-null    uint8  \n",
      " 25  Wind_Direction_VAR                         875 non-null    uint8  \n",
      " 26  Wind_Direction_W                           875 non-null    uint8  \n",
      " 27  Wind_Direction_WNW                         875 non-null    uint8  \n",
      " 28  Wind_Direction_WSW                         875 non-null    uint8  \n",
      " 29  Weather_Condition_Cloudy                   875 non-null    uint8  \n",
      " 30  Weather_Condition_Fair                     875 non-null    uint8  \n",
      " 31  Weather_Condition_Fog                      875 non-null    uint8  \n",
      " 32  Weather_Condition_Heavy Rain               875 non-null    uint8  \n",
      " 33  Weather_Condition_Light Freezing Rain      875 non-null    uint8  \n",
      " 34  Weather_Condition_Light Rain               875 non-null    uint8  \n",
      " 35  Weather_Condition_Light Rain with Thunder  875 non-null    uint8  \n",
      " 36  Weather_Condition_Light Snow               875 non-null    uint8  \n",
      " 37  Weather_Condition_Mostly Cloudy            875 non-null    uint8  \n",
      " 38  Weather_Condition_Overcast                 875 non-null    uint8  \n",
      " 39  Weather_Condition_Partly Cloudy            875 non-null    uint8  \n",
      " 40  Weather_Condition_Rain                     875 non-null    uint8  \n",
      " 41  Weather_Condition_T-Storm                  875 non-null    uint8  \n",
      " 42  Weather_Condition_Thunder                  875 non-null    uint8  \n",
      " 43  Weather_Condition_Thunder in the Vicinity  875 non-null    uint8  \n",
      " 44  Weather_Condition_Wintry Mix               875 non-null    uint8  \n",
      " 45  Crossing_False                             875 non-null    uint8  \n",
      " 46  Crossing_True                              875 non-null    uint8  \n",
      " 47  Junction_False                             875 non-null    uint8  \n",
      " 48  Junction_True                              875 non-null    uint8  \n",
      " 49  Stop_False                                 875 non-null    uint8  \n",
      " 50  Stop_True                                  875 non-null    uint8  \n",
      " 51  Traffic_Signal_False                       875 non-null    uint8  \n",
      " 52  Traffic_Signal_True                        875 non-null    uint8  \n",
      " 53  Sunrise_Sunset_Day                         875 non-null    uint8  \n",
      " 54  Sunrise_Sunset_Night                       875 non-null    uint8  \n",
      " 55  Civil_Twilight_Day                         875 non-null    uint8  \n",
      " 56  Civil_Twilight_Night                       875 non-null    uint8  \n",
      " 57  Nautical_Twilight_Day                      875 non-null    uint8  \n",
      " 58  Nautical_Twilight_Night                    875 non-null    uint8  \n",
      " 59  Astronomical_Twilight_Day                  875 non-null    uint8  \n",
      " 60  Astronomical_Twilight_Night                875 non-null    uint8  \n",
      "dtypes: float64(8), int64(1), uint8(52)\n",
      "memory usage: 145.1 KB\n",
      "None\n"
     ]
    }
   ],
   "source": [
    "## Make dummy variables\n",
    "cat_cols = accidents.select_dtypes(include='category').columns\n",
    "print(cat_cols)\n",
    "\n",
    "encoded = pd.get_dummies(accidents[cat_cols])\n",
    "encoded.head()\n",
    "\n",
    "# now we want to drop the old columns we onehot encoded \n",
    "accidents = accidents.drop(cat_cols, axis=1)\n",
    "\n",
    "# and then join them\n",
    "accidents = accidents.join(encoded)\n",
    "\n",
    "print(accidents.info())"
   ]
  },
  {
   "cell_type": "code",
   "execution_count": 168,
   "metadata": {},
   "outputs": [],
   "source": [
    "y = accidents['Severity']\n",
    "X = accidents.drop(['Severity'], axis = 1)"
   ]
  },
  {
   "cell_type": "code",
   "execution_count": 169,
   "metadata": {},
   "outputs": [
    {
     "name": "stdout",
     "output_type": "stream",
     "text": [
      "87      0.078\n",
      "88      0.028\n",
      "89      0.047\n",
      "90      0.105\n",
      "94      0.175\n",
      "        ...  \n",
      "2033    0.091\n",
      "2036    0.301\n",
      "2037    1.442\n",
      "2038    1.442\n",
      "2039    0.118\n",
      "Name: Distance, Length: 875, dtype: float64\n"
     ]
    }
   ],
   "source": [
    "print(accidents2[\"Distance\"])"
   ]
  },
  {
   "cell_type": "code",
   "execution_count": 170,
   "metadata": {},
   "outputs": [],
   "source": [
    "# lets create a function that will change the Severity to either 0 or 1\n",
    "def accidents_change(Severity):\n",
    "    if Severity > 2:\n",
    "        return 1\n",
    "    else:\n",
    "        return 0\n",
    "\n",
    "# lets apply this function to our y variable\n",
    "y = y.apply(accidents_change)"
   ]
  },
  {
   "cell_type": "code",
   "execution_count": 171,
   "metadata": {},
   "outputs": [],
   "source": [
    "X_train, X_test, y_train, y_test = train_test_split(X, y, test_size=0.30, stratify= y, random_state=21) \n",
    "# test size = 40%"
   ]
  },
  {
   "cell_type": "code",
   "execution_count": 172,
   "metadata": {},
   "outputs": [
    {
     "name": "stdout",
     "output_type": "stream",
     "text": [
      "0    474\n",
      "1    138\n",
      "Name: Severity, dtype: int64\n",
      "0    204\n",
      "1     59\n",
      "Name: Severity, dtype: int64\n"
     ]
    }
   ],
   "source": [
    "#Check the output\n",
    "print(y_train.value_counts())\n",
    "print(y_test.value_counts())"
   ]
  },
  {
   "cell_type": "code",
   "execution_count": 173,
   "metadata": {},
   "outputs": [
    {
     "name": "stdout",
     "output_type": "stream",
     "text": [
      "{'max_depth': 10, 'min_samples_leaf': 2, 'min_samples_split': 10, 'n_estimators': 25}\n"
     ]
    }
   ],
   "source": [
    "from sklearn.model_selection import GridSearchCV\n",
    "\n",
    "param_grid = {\n",
    "    'n_estimators': [25,50, 100, 200],\n",
    "   'max_depth': [None, 10, 20],\n",
    "    'min_samples_split': [2, 5, 10],\n",
    "    'min_samples_leaf': [1, 2, 4]\n",
    "    \n",
    "}\n",
    "\n",
    "grid_search = GridSearchCV(RandomForestClassifier(random_state=42), param_grid, cv=5)\n",
    "grid_search.fit(X_train, y_train)\n",
    "best_params = grid_search.best_params_\n",
    "print(best_params)"
   ]
  },
  {
   "cell_type": "code",
   "execution_count": 174,
   "metadata": {},
   "outputs": [],
   "source": [
    "#Tested and were not as effective"
   ]
  },
  {
   "cell_type": "code",
   "execution_count": 175,
   "metadata": {},
   "outputs": [
    {
     "name": "stdout",
     "output_type": "stream",
     "text": [
      "max_features = 7.745966692414834\n"
     ]
    },
    {
     "name": "stderr",
     "output_type": "stream",
     "text": [
      "/Users/lucaslisman/anaconda3/lib/python3.11/site-packages/sklearn/ensemble/_forest.py:780: UserWarning: class_weight presets \"balanced\" or \"balanced_subsample\" are not recommended for warm_start if the fitted data differs from the full dataset. In order to use \"balanced\" weights, use compute_class_weight (\"balanced\", classes, y). In place of y you can use a large enough sample of the full training set target to properly estimate the class frequency distributions. Pass the resulting weights as the class_weight parameter.\n",
      "  warn(\n",
      "[Parallel(n_jobs=-1)]: Using backend ThreadingBackend with 8 concurrent workers.\n",
      "[Parallel(n_jobs=-1)]: Done  34 tasks      | elapsed:    0.1s\n",
      "[Parallel(n_jobs=-1)]: Done 184 tasks      | elapsed:    0.2s\n",
      "[Parallel(n_jobs=-1)]: Done 434 tasks      | elapsed:    0.5s\n",
      "[Parallel(n_jobs=-1)]: Done 500 out of 500 | elapsed:    0.6s finished\n"
     ]
    }
   ],
   "source": [
    "print('max_features = ' + str(np.sqrt(X.shape[1]))) #7.7\n",
    "\n",
    "RFC = RandomForestClassifier(n_estimators=500, #<- Number of trees to grow. This should not be set to too small a number, to ensure that every input row gets predicted at least a few times.\n",
    "                max_features= 8, #<- Number of variables randomly sampled as candidates at each split. Note that the default values are different for classification (sqrt(p) where p is number of variables in x) and regression (p).\n",
    "                bootstrap= True, #<-Whether bootstrap samples are used when building trees\n",
    "                max_samples = 100,  #<- Size of sample to draw each time.\n",
    "                min_samples_leaf= 2, #<- Minimum numbers of data points in terminal nodes.\n",
    "                max_leaf_nodes= None, #<- Maximum number of terminal nodes trees in the forest can have. \n",
    "                max_depth= 10, #<-The maximum depth of the tree\n",
    "                oob_score =True, #<-Whether to use out-of-bag samples to estimate the generalization score\n",
    "            warm_start =True, #<- Whether to reuse the solution of the previous call to fit and add more estimators to the ensemble\n",
    "            random_state= 42,\n",
    "            n_jobs= -1, #<- Number of cores to use for parallel processing (-1 will use all available)\n",
    "            verbose=True,\n",
    "            class_weight='balanced') #<- Whether to print progress messages to stdout.\n",
    "\n",
    "accidents_RF= RFC.fit(X_train,y_train)\n",
    "\n",
    "# finished in 5.1 seconds"
   ]
  },
  {
   "cell_type": "code",
   "execution_count": 176,
   "metadata": {},
   "outputs": [
    {
     "name": "stdout",
     "output_type": "stream",
     "text": [
      "OOB error rate: 0.23856209150326801\n"
     ]
    }
   ],
   "source": [
    "print('OOB error rate: ' + str(1-accidents_RF.oob_score_))"
   ]
  },
  {
   "cell_type": "code",
   "execution_count": 177,
   "metadata": {},
   "outputs": [
    {
     "name": "stdout",
     "output_type": "stream",
     "text": [
      "False Positive Rate: 0.0105\n",
      "True Positive Rate: 0.1304\n",
      "Precision: 0.7826\n"
     ]
    },
    {
     "name": "stderr",
     "output_type": "stream",
     "text": [
      "[Parallel(n_jobs=8)]: Using backend ThreadingBackend with 8 concurrent workers.\n",
      "[Parallel(n_jobs=8)]: Done  34 tasks      | elapsed:    0.0s\n",
      "[Parallel(n_jobs=8)]: Done 184 tasks      | elapsed:    0.0s\n",
      "[Parallel(n_jobs=8)]: Done 434 tasks      | elapsed:    0.1s\n",
      "[Parallel(n_jobs=8)]: Done 500 out of 500 | elapsed:    0.1s finished\n",
      "[Parallel(n_jobs=8)]: Using backend ThreadingBackend with 8 concurrent workers.\n",
      "[Parallel(n_jobs=8)]: Done  34 tasks      | elapsed:    0.0s\n",
      "[Parallel(n_jobs=8)]: Done 184 tasks      | elapsed:    0.0s\n"
     ]
    },
    {
     "name": "stdout",
     "output_type": "stream",
     "text": [
      "Accuracy: 0.7958\n"
     ]
    },
    {
     "name": "stderr",
     "output_type": "stream",
     "text": [
      "[Parallel(n_jobs=8)]: Done 434 tasks      | elapsed:    0.1s\n",
      "[Parallel(n_jobs=8)]: Done 500 out of 500 | elapsed:    0.1s finished\n"
     ]
    },
    {
     "data": {
      "image/png": "[encoded data removed]",
      "text/plain": [
       "<Figure size 640x480 with 2 Axes>"
      ]
     },
     "metadata": {},
     "output_type": "display_data"
    }
   ],
   "source": [
    "# Generate predictions on the training set\n",
    "y_pred_train = accidents_RF.predict(X_train)\n",
    "\n",
    "# Obtain the confusion matrix\n",
    "cm = confusion_matrix(y_train, y_pred_train)\n",
    "\n",
    "# Calculate false positive rate (FPR) and true positive rate (TPR)\n",
    "fpr = cm[0, 1] / (cm[0, 0] + cm[0, 1])\n",
    "tpr = cm[1, 1] / (cm[1, 0] + cm[1, 1])\n",
    "precision = cm[1, 1] / (cm[0, 1] + cm[1, 1])\n",
    "\n",
    "ConfusionMatrixDisplay(confusion_matrix=cm, display_labels=accidents_RF.classes_).plot(cmap='Blues')\n",
    "\n",
    "# Display FPR and TPR\n",
    "print(f\"False Positive Rate: {fpr:.4f}\")\n",
    "print(f\"True Positive Rate: {tpr:.4f}\")\n",
    "print(f\"Precision: {precision:.4f}\")\n",
    "print(f\"Accuracy: {accidents_RF.score(X_train, y_train):.4f}\")"
   ]
  },
  {
   "cell_type": "code",
   "execution_count": 178,
   "metadata": {},
   "outputs": [
    {
     "name": "stdout",
     "output_type": "stream",
     "text": [
      "                                           importance\n",
      "Distance.mi.                                 0.127673\n",
      "Humidity...                                  0.118163\n",
      "Temperature.F.                               0.110671\n",
      "Wind_Chill.F.                                0.106334\n",
      "Pressure.in.                                 0.102992\n",
      "Wind_Speed.mph.                              0.071816\n",
      "Weather_Condition_Fair                       0.025313\n",
      "Visibility.mi.                               0.021853\n",
      "Side_R                                       0.020229\n",
      "Side_L                                       0.019198\n",
      "Weather_Condition_Cloudy                     0.019184\n",
      "Wind_Direction_CALM                          0.016321\n",
      "Wind_Direction_VAR                           0.015728\n",
      "Sunrise_Sunset_Night                         0.015211\n",
      "Wind_Direction_S                             0.014224\n",
      "Wind_Direction_SSW                           0.013289\n",
      "Civil_Twilight_Night                         0.012710\n",
      "Precipitation.in.                            0.012459\n",
      "Sunrise_Sunset_Day                           0.012231\n",
      "Civil_Twilight_Day                           0.011347\n",
      "Astronomical_Twilight_Night                  0.011271\n",
      "Nautical_Twilight_Night                      0.011091\n",
      "Nautical_Twilight_Day                        0.011089\n",
      "Astronomical_Twilight_Day                    0.011056\n",
      "Weather_Condition_Mostly Cloudy              0.009312\n",
      "Crossing_False                               0.008461\n",
      "Wind_Direction_SSE                           0.007426\n",
      "Crossing_True                                0.006490\n",
      "Weather_Condition_Light Rain                 0.005983\n",
      "Wind_Direction_NNW                           0.005489\n",
      "Wind_Direction_NW                            0.005235\n",
      "Traffic_Signal_False                         0.004944\n",
      "Weather_Condition_Partly Cloudy              0.004643\n",
      "Traffic_Signal_True                          0.004508\n",
      "Weather_Condition_Fog                        0.004420\n",
      "Wind_Direction_N                             0.003998\n",
      "Wind_Direction_NNE                           0.003496\n",
      "Wind_Direction_ENE                           0.002523\n",
      "Wind_Direction_NE                            0.002304\n",
      "Wind_Direction_SW                            0.002250\n",
      "Wind_Direction_WNW                           0.001987\n",
      "Wind_Direction_E                             0.001330\n",
      "Weather_Condition_Rain                       0.000552\n",
      "Junction_False                               0.000514\n",
      "Wind_Direction_W                             0.000497\n",
      "Wind_Direction_WSW                           0.000409\n",
      "Weather_Condition_Wintry Mix                 0.000397\n",
      "Weather_Condition_Thunder in the Vicinity    0.000357\n",
      "Junction_True                                0.000293\n",
      "Wind_Direction_ESE                           0.000290\n",
      "Wind_Direction_SE                            0.000215\n",
      "Weather_Condition_Overcast                   0.000122\n",
      "Weather_Condition_Heavy Rain                 0.000104\n",
      "Weather_Condition_Light Snow                 0.000000\n",
      "Stop_True                                    0.000000\n",
      "Stop_False                                   0.000000\n",
      "Weather_Condition_Light Rain with Thunder    0.000000\n",
      "Weather_Condition_Thunder                    0.000000\n",
      "Weather_Condition_Light Freezing Rain        0.000000\n",
      "Weather_Condition_T-Storm                    0.000000\n"
     ]
    }
   ],
   "source": [
    "#determining feature importance\n",
    "\n",
    "np.argmax(accidents_RF.oob_decision_function_,axis=1)\n",
    "print(pd.DataFrame(accidents_RF.feature_importances_,index = X.columns,columns=['importance']).sort_values('importance', ascending=False))"
   ]
  },
  {
   "cell_type": "code",
   "execution_count": 247,
   "metadata": {},
   "outputs": [
    {
     "name": "stdout",
     "output_type": "stream",
     "text": [
      "Accuracy with adjusted threshold (0.4): 0.2777777777777778\n",
      "              precision    recall  f1-score   support\n",
      "\n",
      "           0       0.67      0.23      0.34        88\n",
      "           1       0.13      0.50      0.20        20\n",
      "\n",
      "    accuracy                           0.28       108\n",
      "   macro avg       0.40      0.36      0.27       108\n",
      "weighted avg       0.57      0.28      0.31       108\n",
      "\n"
     ]
    },
    {
     "name": "stderr",
     "output_type": "stream",
     "text": [
      "/Users/lucaslisman/anaconda3/lib/python3.11/site-packages/sklearn/base.py:464: UserWarning: X does not have valid feature names, but RandomForestClassifier was fitted with feature names\n",
      "  warnings.warn(\n",
      "[Parallel(n_jobs=8)]: Using backend ThreadingBackend with 8 concurrent workers.\n",
      "[Parallel(n_jobs=8)]: Done  34 tasks      | elapsed:    0.0s\n",
      "[Parallel(n_jobs=8)]: Done 184 tasks      | elapsed:    0.1s\n",
      "[Parallel(n_jobs=8)]: Done 434 tasks      | elapsed:    0.1s\n",
      "[Parallel(n_jobs=8)]: Done 500 out of 500 | elapsed:    0.1s finished\n"
     ]
    }
   ],
   "source": [
    "from sklearn.metrics import classification_report, accuracy_score\n",
    "\n",
    "# Get predicted probabilities for the positive class (class 1)\n",
    "y_pred_prob = accidents_RF.predict_proba(X_test)[:, 1]\n",
    "\n",
    "# Adjust the threshold (e.g., set it to 0.4)\n",
    "threshold = 0.4\n",
    "y_pred_adjusted = (y_pred_prob >= threshold).astype(int)\n",
    "\n",
    "# Evaluate the model with the adjusted threshold\n",
    "print(f\"Accuracy with adjusted threshold ({threshold}): {accuracy_score(y_test, y_pred_adjusted)}\")\n",
    "print(classification_report(y_test, y_pred_adjusted))"
   ]
  },
  {
   "cell_type": "code",
   "execution_count": 180,
   "metadata": {},
   "outputs": [],
   "source": [
    "# Threshold of 0.4 is best"
   ]
  },
  {
   "cell_type": "markdown",
   "metadata": {},
   "source": [
    "# KNN"
   ]
  },
  {
   "cell_type": "code",
   "execution_count": 181,
   "metadata": {},
   "outputs": [],
   "source": [
    "from sklearn.model_selection import train_test_split\n",
    "from sklearn.neighbors import KNeighborsClassifier\n",
    "from matplotlib import pyplot as plt"
   ]
  },
  {
   "cell_type": "code",
   "execution_count": 206,
   "metadata": {},
   "outputs": [
    {
     "data": {
      "text/html": [
       "<div>\n",
       "<style scoped>\n",
       "    .dataframe tbody tr th:only-of-type {\n",
       "        vertical-align: middle;\n",
       "    }\n",
       "\n",
       "    .dataframe tbody tr th {\n",
       "        vertical-align: top;\n",
       "    }\n",
       "\n",
       "    .dataframe thead th {\n",
       "        text-align: right;\n",
       "    }\n",
       "</style>\n",
       "<table border=\"1\" class=\"dataframe\">\n",
       "  <thead>\n",
       "    <tr style=\"text-align: right;\">\n",
       "      <th></th>\n",
       "      <th>Unnamed: 0</th>\n",
       "      <th>ID</th>\n",
       "      <th>Severity</th>\n",
       "      <th>Start_Time</th>\n",
       "      <th>End_Time</th>\n",
       "      <th>Start_Lat</th>\n",
       "      <th>Start_Lng</th>\n",
       "      <th>End_Lat</th>\n",
       "      <th>End_Lng</th>\n",
       "      <th>Distance.mi.</th>\n",
       "      <th>...</th>\n",
       "      <th>Roundabout</th>\n",
       "      <th>Station</th>\n",
       "      <th>Stop</th>\n",
       "      <th>Traffic_Calming</th>\n",
       "      <th>Traffic_Signal</th>\n",
       "      <th>Turning_Loop</th>\n",
       "      <th>Sunrise_Sunset</th>\n",
       "      <th>Civil_Twilight</th>\n",
       "      <th>Nautical_Twilight</th>\n",
       "      <th>Astronomical_Twilight</th>\n",
       "    </tr>\n",
       "  </thead>\n",
       "  <tbody>\n",
       "    <tr>\n",
       "      <th>0</th>\n",
       "      <td>31910</td>\n",
       "      <td>A-31910</td>\n",
       "      <td>2</td>\n",
       "      <td>2016-12-01 12:19:37</td>\n",
       "      <td>2016-12-01 18:19:37</td>\n",
       "      <td>38.175522</td>\n",
       "      <td>-78.407423</td>\n",
       "      <td>38.164358</td>\n",
       "      <td>-78.414532</td>\n",
       "      <td>0.863</td>\n",
       "      <td>...</td>\n",
       "      <td>False</td>\n",
       "      <td>False</td>\n",
       "      <td>False</td>\n",
       "      <td>False</td>\n",
       "      <td>False</td>\n",
       "      <td>False</td>\n",
       "      <td>Day</td>\n",
       "      <td>Day</td>\n",
       "      <td>Day</td>\n",
       "      <td>Day</td>\n",
       "    </tr>\n",
       "    <tr>\n",
       "      <th>1</th>\n",
       "      <td>32851</td>\n",
       "      <td>A-32851</td>\n",
       "      <td>3</td>\n",
       "      <td>2016-12-05 09:25:43</td>\n",
       "      <td>2016-12-05 15:25:43</td>\n",
       "      <td>38.123890</td>\n",
       "      <td>-78.444780</td>\n",
       "      <td>38.123919</td>\n",
       "      <td>-78.444748</td>\n",
       "      <td>0.003</td>\n",
       "      <td>...</td>\n",
       "      <td>False</td>\n",
       "      <td>False</td>\n",
       "      <td>False</td>\n",
       "      <td>False</td>\n",
       "      <td>False</td>\n",
       "      <td>False</td>\n",
       "      <td>Day</td>\n",
       "      <td>Day</td>\n",
       "      <td>Day</td>\n",
       "      <td>Day</td>\n",
       "    </tr>\n",
       "    <tr>\n",
       "      <th>2</th>\n",
       "      <td>33648</td>\n",
       "      <td>A-33648</td>\n",
       "      <td>2</td>\n",
       "      <td>2016-12-07 07:33:53</td>\n",
       "      <td>2016-12-07 13:33:53</td>\n",
       "      <td>38.170954</td>\n",
       "      <td>-78.410337</td>\n",
       "      <td>38.163851</td>\n",
       "      <td>-78.414851</td>\n",
       "      <td>0.549</td>\n",
       "      <td>...</td>\n",
       "      <td>False</td>\n",
       "      <td>False</td>\n",
       "      <td>False</td>\n",
       "      <td>False</td>\n",
       "      <td>False</td>\n",
       "      <td>False</td>\n",
       "      <td>Day</td>\n",
       "      <td>Day</td>\n",
       "      <td>Day</td>\n",
       "      <td>Day</td>\n",
       "    </tr>\n",
       "    <tr>\n",
       "      <th>3</th>\n",
       "      <td>33670</td>\n",
       "      <td>A-33670</td>\n",
       "      <td>2</td>\n",
       "      <td>2016-12-07 07:49:21</td>\n",
       "      <td>2016-12-07 14:04:50</td>\n",
       "      <td>38.173332</td>\n",
       "      <td>-78.408818</td>\n",
       "      <td>38.163883</td>\n",
       "      <td>-78.414830</td>\n",
       "      <td>0.730</td>\n",
       "      <td>...</td>\n",
       "      <td>False</td>\n",
       "      <td>False</td>\n",
       "      <td>False</td>\n",
       "      <td>False</td>\n",
       "      <td>False</td>\n",
       "      <td>False</td>\n",
       "      <td>Day</td>\n",
       "      <td>Day</td>\n",
       "      <td>Day</td>\n",
       "      <td>Day</td>\n",
       "    </tr>\n",
       "    <tr>\n",
       "      <th>4</th>\n",
       "      <td>33689</td>\n",
       "      <td>A-33689</td>\n",
       "      <td>2</td>\n",
       "      <td>2016-12-07 08:37:45</td>\n",
       "      <td>2016-12-07 14:37:45</td>\n",
       "      <td>38.034930</td>\n",
       "      <td>-78.606930</td>\n",
       "      <td>38.032470</td>\n",
       "      <td>-78.598830</td>\n",
       "      <td>0.472</td>\n",
       "      <td>...</td>\n",
       "      <td>False</td>\n",
       "      <td>False</td>\n",
       "      <td>False</td>\n",
       "      <td>False</td>\n",
       "      <td>False</td>\n",
       "      <td>False</td>\n",
       "      <td>Day</td>\n",
       "      <td>Day</td>\n",
       "      <td>Day</td>\n",
       "      <td>Day</td>\n",
       "    </tr>\n",
       "  </tbody>\n",
       "</table>\n",
       "<p>5 rows × 48 columns</p>\n",
       "</div>"
      ],
      "text/plain": [
       "   Unnamed: 0       ID  Severity           Start_Time             End_Time  \\\n",
       "0       31910  A-31910         2  2016-12-01 12:19:37  2016-12-01 18:19:37   \n",
       "1       32851  A-32851         3  2016-12-05 09:25:43  2016-12-05 15:25:43   \n",
       "2       33648  A-33648         2  2016-12-07 07:33:53  2016-12-07 13:33:53   \n",
       "3       33670  A-33670         2  2016-12-07 07:49:21  2016-12-07 14:04:50   \n",
       "4       33689  A-33689         2  2016-12-07 08:37:45  2016-12-07 14:37:45   \n",
       "\n",
       "   Start_Lat  Start_Lng    End_Lat    End_Lng  Distance.mi.  ... Roundabout  \\\n",
       "0  38.175522 -78.407423  38.164358 -78.414532         0.863  ...      False   \n",
       "1  38.123890 -78.444780  38.123919 -78.444748         0.003  ...      False   \n",
       "2  38.170954 -78.410337  38.163851 -78.414851         0.549  ...      False   \n",
       "3  38.173332 -78.408818  38.163883 -78.414830         0.730  ...      False   \n",
       "4  38.034930 -78.606930  38.032470 -78.598830         0.472  ...      False   \n",
       "\n",
       "   Station   Stop Traffic_Calming Traffic_Signal Turning_Loop Sunrise_Sunset  \\\n",
       "0    False  False           False          False        False            Day   \n",
       "1    False  False           False          False        False            Day   \n",
       "2    False  False           False          False        False            Day   \n",
       "3    False  False           False          False        False            Day   \n",
       "4    False  False           False          False        False            Day   \n",
       "\n",
       "  Civil_Twilight Nautical_Twilight Astronomical_Twilight  \n",
       "0            Day               Day                   Day  \n",
       "1            Day               Day                   Day  \n",
       "2            Day               Day                   Day  \n",
       "3            Day               Day                   Day  \n",
       "4            Day               Day                   Day  \n",
       "\n",
       "[5 rows x 48 columns]"
      ]
     },
     "execution_count": 206,
     "metadata": {},
     "output_type": "execute_result"
    }
   ],
   "source": [
    "# open the dataset.csv file \n",
    "accidentsKnn = pd.read_csv('cville_accidentsModel.csv')\n",
    "# inspect the types of each column\n",
    "accidentsKnn.dtypes\n",
    "accidentsKnn.head()"
   ]
  },
  {
   "cell_type": "code",
   "execution_count": 207,
   "metadata": {},
   "outputs": [],
   "source": [
    "# check how many nas \n",
    "accidentsKnn.isna().sum()\n",
    "# not too many nas, so we can drop them \n",
    "accidentsKnn = accidentsKnn.dropna()"
   ]
  },
  {
   "cell_type": "code",
   "execution_count": 209,
   "metadata": {},
   "outputs": [],
   "source": [
    "accidentsKnn = accidentsKnn.drop([\"Unnamed: 0\",\"Start_Lat\",\"Start_Lng\", \"End_Lat\",\"End_Lng\",\"ID\",\"Start_Time\",\"End_Time\",\"Street\", \"City\", \"County\", \"Zipcode\",\"Weather_Timestamp\",\"Description\", \"Number\",\"State\",\"Country\",\"Airport_Code\",\"Timezone\",\"Amenity\",\"Bump\",\"Give_Way\",\"No_Exit\",\"Railway\",\"Roundabout\",\"Station\",\"Traffic_Calming\",\"Turning_Loop\"],axis=1)"
   ]
  },
  {
   "cell_type": "code",
   "execution_count": 211,
   "metadata": {},
   "outputs": [],
   "source": [
    "#### Make variables categorical\n",
    "accidentsKnn['Side'] = accidentsKnn['Side'].astype(\"category\")\n",
    "\n",
    "accidentsKnn['Wind_Direction'] = accidentsKnn['Wind_Direction'].astype(\"category\")\n",
    "\n",
    "accidentsKnn['Weather_Condition'] = accidentsKnn['Weather_Condition'].astype(\"category\")\n",
    "\n",
    "accidentsKnn['Crossing'] = accidentsKnn['Crossing'].astype(\"category\")\n",
    "\n",
    "accidentsKnn['Junction'] = accidentsKnn['Junction'].astype(\"category\")\n",
    "\n",
    "accidentsKnn['Traffic_Signal'] = accidentsKnn['Traffic_Signal'].astype(\"category\")\n",
    "\n",
    "accidentsKnn['Sunrise_Sunset'] = accidentsKnn['Sunrise_Sunset'].astype(\"category\")\n",
    "\n",
    "accidentsKnn['Civil_Twilight'] = accidentsKnn['Civil_Twilight'].astype(\"category\")\n",
    "\n",
    "accidentsKnn['Nautical_Twilight'] = accidentsKnn['Nautical_Twilight'].astype(\"category\")\n",
    "\n",
    "accidentsKnn['Astronomical_Twilight'] = accidentsKnn['Astronomical_Twilight'].astype(\"category\")\n",
    "\n"
   ]
  },
  {
   "cell_type": "code",
   "execution_count": 212,
   "metadata": {},
   "outputs": [
    {
     "name": "stdout",
     "output_type": "stream",
     "text": [
      "<class 'pandas.core.frame.DataFrame'>\n",
      "Int64Index: 875 entries, 87 to 2039\n",
      "Data columns (total 20 columns):\n",
      " #   Column                 Non-Null Count  Dtype   \n",
      "---  ------                 --------------  -----   \n",
      " 0   Severity               875 non-null    int64   \n",
      " 1   Distance.mi.           875 non-null    float64 \n",
      " 2   Side                   875 non-null    category\n",
      " 3   Temperature.F.         875 non-null    float64 \n",
      " 4   Wind_Chill.F.          875 non-null    float64 \n",
      " 5   Humidity...            875 non-null    float64 \n",
      " 6   Pressure.in.           875 non-null    float64 \n",
      " 7   Visibility.mi.         875 non-null    float64 \n",
      " 8   Wind_Direction         875 non-null    category\n",
      " 9   Wind_Speed.mph.        875 non-null    float64 \n",
      " 10  Precipitation.in.      875 non-null    float64 \n",
      " 11  Weather_Condition      875 non-null    category\n",
      " 12  Crossing               875 non-null    category\n",
      " 13  Junction               875 non-null    category\n",
      " 14  Stop                   875 non-null    bool    \n",
      " 15  Traffic_Signal         875 non-null    category\n",
      " 16  Sunrise_Sunset         875 non-null    category\n",
      " 17  Civil_Twilight         875 non-null    category\n",
      " 18  Nautical_Twilight      875 non-null    category\n",
      " 19  Astronomical_Twilight  875 non-null    category\n",
      "dtypes: bool(1), category(10), float64(8), int64(1)\n",
      "memory usage: 80.0 KB\n"
     ]
    }
   ],
   "source": [
    "accidentsKnn.info()"
   ]
  },
  {
   "cell_type": "code",
   "execution_count": 213,
   "metadata": {},
   "outputs": [
    {
     "name": "stdout",
     "output_type": "stream",
     "text": [
      "Mild      678\n",
      "Severe    197\n",
      "Name: Severity, dtype: int64\n"
     ]
    }
   ],
   "source": [
    "Severe = [3,4]\n",
    "accidentsKnn.Severity = accidentsKnn.Severity.apply(lambda x: \"Severe\" if x in Severe else \"Mild\")\n",
    "print(accidentsKnn.Severity.value_counts())\n",
    "accidentsKnn['Severity'] = accidentsKnn['Severity'].astype(\"category\")"
   ]
  },
  {
   "cell_type": "code",
   "execution_count": 215,
   "metadata": {},
   "outputs": [
    {
     "name": "stdout",
     "output_type": "stream",
     "text": [
      "Index(['Distance.mi.', 'Temperature.F.', 'Wind_Chill.F.', 'Humidity...',\n",
      "       'Pressure.in.', 'Visibility.mi.', 'Wind_Speed.mph.',\n",
      "       'Precipitation.in.'],\n",
      "      dtype='object')\n"
     ]
    }
   ],
   "source": [
    "# now, we normalize the numeric variables\n",
    "numeric_cols = accidentsKnn.select_dtypes(include=['int64', 'float64']).columns\n",
    "print(numeric_cols)"
   ]
  },
  {
   "cell_type": "code",
   "execution_count": 216,
   "metadata": {},
   "outputs": [],
   "source": [
    "from sklearn import preprocessing\n",
    "scaler = preprocessing.MinMaxScaler()\n",
    "d = scaler.fit_transform(accidentsKnn[numeric_cols])   # conduct data transformation\n",
    "scaled_df = pd.DataFrame(d, columns=numeric_cols)   # convert back to pd df; transformation converts to array\n",
    "accidentsKnn[numeric_cols] = scaled_df   # put data back into the main df"
   ]
  },
  {
   "cell_type": "code",
   "execution_count": 217,
   "metadata": {},
   "outputs": [
    {
     "data": {
      "text/html": [
       "<div>\n",
       "<style scoped>\n",
       "    .dataframe tbody tr th:only-of-type {\n",
       "        vertical-align: middle;\n",
       "    }\n",
       "\n",
       "    .dataframe tbody tr th {\n",
       "        vertical-align: top;\n",
       "    }\n",
       "\n",
       "    .dataframe thead th {\n",
       "        text-align: right;\n",
       "    }\n",
       "</style>\n",
       "<table border=\"1\" class=\"dataframe\">\n",
       "  <thead>\n",
       "    <tr style=\"text-align: right;\">\n",
       "      <th></th>\n",
       "      <th>Distance.mi.</th>\n",
       "      <th>Temperature.F.</th>\n",
       "      <th>Wind_Chill.F.</th>\n",
       "      <th>Humidity...</th>\n",
       "      <th>Pressure.in.</th>\n",
       "      <th>Visibility.mi.</th>\n",
       "      <th>Wind_Speed.mph.</th>\n",
       "      <th>Precipitation.in.</th>\n",
       "    </tr>\n",
       "  </thead>\n",
       "  <tbody>\n",
       "    <tr>\n",
       "      <th>count</th>\n",
       "      <td>450.000000</td>\n",
       "      <td>450.000000</td>\n",
       "      <td>450.000000</td>\n",
       "      <td>450.000000</td>\n",
       "      <td>450.000000</td>\n",
       "      <td>450.000000</td>\n",
       "      <td>450.000000</td>\n",
       "      <td>450.000000</td>\n",
       "    </tr>\n",
       "    <tr>\n",
       "      <th>mean</th>\n",
       "      <td>0.067888</td>\n",
       "      <td>0.493269</td>\n",
       "      <td>0.536156</td>\n",
       "      <td>0.530639</td>\n",
       "      <td>0.395022</td>\n",
       "      <td>0.902849</td>\n",
       "      <td>0.166391</td>\n",
       "      <td>0.016848</td>\n",
       "    </tr>\n",
       "    <tr>\n",
       "      <th>std</th>\n",
       "      <td>0.092279</td>\n",
       "      <td>0.236226</td>\n",
       "      <td>0.223403</td>\n",
       "      <td>0.266766</td>\n",
       "      <td>0.138569</td>\n",
       "      <td>0.260683</td>\n",
       "      <td>0.144479</td>\n",
       "      <td>0.097027</td>\n",
       "    </tr>\n",
       "    <tr>\n",
       "      <th>min</th>\n",
       "      <td>0.000000</td>\n",
       "      <td>0.000000</td>\n",
       "      <td>0.000000</td>\n",
       "      <td>0.000000</td>\n",
       "      <td>0.000000</td>\n",
       "      <td>0.000000</td>\n",
       "      <td>0.000000</td>\n",
       "      <td>0.000000</td>\n",
       "    </tr>\n",
       "    <tr>\n",
       "      <th>25%</th>\n",
       "      <td>0.012399</td>\n",
       "      <td>0.305556</td>\n",
       "      <td>0.350000</td>\n",
       "      <td>0.312500</td>\n",
       "      <td>0.306667</td>\n",
       "      <td>1.000000</td>\n",
       "      <td>0.000000</td>\n",
       "      <td>0.000000</td>\n",
       "    </tr>\n",
       "    <tr>\n",
       "      <th>50%</th>\n",
       "      <td>0.036496</td>\n",
       "      <td>0.472222</td>\n",
       "      <td>0.525000</td>\n",
       "      <td>0.525000</td>\n",
       "      <td>0.396667</td>\n",
       "      <td>1.000000</td>\n",
       "      <td>0.172414</td>\n",
       "      <td>0.000000</td>\n",
       "    </tr>\n",
       "    <tr>\n",
       "      <th>75%</th>\n",
       "      <td>0.086468</td>\n",
       "      <td>0.666667</td>\n",
       "      <td>0.700000</td>\n",
       "      <td>0.771875</td>\n",
       "      <td>0.480000</td>\n",
       "      <td>1.000000</td>\n",
       "      <td>0.241379</td>\n",
       "      <td>0.000000</td>\n",
       "    </tr>\n",
       "    <tr>\n",
       "      <th>max</th>\n",
       "      <td>1.000000</td>\n",
       "      <td>1.000000</td>\n",
       "      <td>1.000000</td>\n",
       "      <td>1.000000</td>\n",
       "      <td>1.000000</td>\n",
       "      <td>1.000000</td>\n",
       "      <td>1.000000</td>\n",
       "      <td>1.000000</td>\n",
       "    </tr>\n",
       "  </tbody>\n",
       "</table>\n",
       "</div>"
      ],
      "text/plain": [
       "       Distance.mi.  Temperature.F.  Wind_Chill.F.  Humidity...  Pressure.in.  \\\n",
       "count    450.000000      450.000000     450.000000   450.000000    450.000000   \n",
       "mean       0.067888        0.493269       0.536156     0.530639      0.395022   \n",
       "std        0.092279        0.236226       0.223403     0.266766      0.138569   \n",
       "min        0.000000        0.000000       0.000000     0.000000      0.000000   \n",
       "25%        0.012399        0.305556       0.350000     0.312500      0.306667   \n",
       "50%        0.036496        0.472222       0.525000     0.525000      0.396667   \n",
       "75%        0.086468        0.666667       0.700000     0.771875      0.480000   \n",
       "max        1.000000        1.000000       1.000000     1.000000      1.000000   \n",
       "\n",
       "       Visibility.mi.  Wind_Speed.mph.  Precipitation.in.  \n",
       "count      450.000000       450.000000         450.000000  \n",
       "mean         0.902849         0.166391           0.016848  \n",
       "std          0.260683         0.144479           0.097027  \n",
       "min          0.000000         0.000000           0.000000  \n",
       "25%          1.000000         0.000000           0.000000  \n",
       "50%          1.000000         0.172414           0.000000  \n",
       "75%          1.000000         0.241379           0.000000  \n",
       "max          1.000000         1.000000           1.000000  "
      ]
     },
     "execution_count": 217,
     "metadata": {},
     "output_type": "execute_result"
    }
   ],
   "source": [
    "accidentsKnn.describe()   # as we can see, the data is now normalized!"
   ]
  },
  {
   "cell_type": "code",
   "execution_count": 218,
   "metadata": {},
   "outputs": [
    {
     "name": "stdout",
     "output_type": "stream",
     "text": [
      "Index(['Severity', 'Side', 'Wind_Direction', 'Weather_Condition', 'Crossing',\n",
      "       'Junction', 'Traffic_Signal', 'Sunrise_Sunset', 'Civil_Twilight',\n",
      "       'Nautical_Twilight', 'Astronomical_Twilight'],\n",
      "      dtype='object')\n"
     ]
    },
    {
     "data": {
      "text/html": [
       "<div>\n",
       "<style scoped>\n",
       "    .dataframe tbody tr th:only-of-type {\n",
       "        vertical-align: middle;\n",
       "    }\n",
       "\n",
       "    .dataframe tbody tr th {\n",
       "        vertical-align: top;\n",
       "    }\n",
       "\n",
       "    .dataframe thead th {\n",
       "        text-align: right;\n",
       "    }\n",
       "</style>\n",
       "<table border=\"1\" class=\"dataframe\">\n",
       "  <thead>\n",
       "    <tr style=\"text-align: right;\">\n",
       "      <th></th>\n",
       "      <th>Severity_Mild</th>\n",
       "      <th>Severity_Severe</th>\n",
       "      <th>Side_L</th>\n",
       "      <th>Side_R</th>\n",
       "      <th>Wind_Direction_CALM</th>\n",
       "      <th>Wind_Direction_E</th>\n",
       "      <th>Wind_Direction_ENE</th>\n",
       "      <th>Wind_Direction_ESE</th>\n",
       "      <th>Wind_Direction_N</th>\n",
       "      <th>Wind_Direction_NE</th>\n",
       "      <th>...</th>\n",
       "      <th>Traffic_Signal_False</th>\n",
       "      <th>Traffic_Signal_True</th>\n",
       "      <th>Sunrise_Sunset_Day</th>\n",
       "      <th>Sunrise_Sunset_Night</th>\n",
       "      <th>Civil_Twilight_Day</th>\n",
       "      <th>Civil_Twilight_Night</th>\n",
       "      <th>Nautical_Twilight_Day</th>\n",
       "      <th>Nautical_Twilight_Night</th>\n",
       "      <th>Astronomical_Twilight_Day</th>\n",
       "      <th>Astronomical_Twilight_Night</th>\n",
       "    </tr>\n",
       "  </thead>\n",
       "  <tbody>\n",
       "    <tr>\n",
       "      <th>87</th>\n",
       "      <td>1</td>\n",
       "      <td>0</td>\n",
       "      <td>0</td>\n",
       "      <td>1</td>\n",
       "      <td>0</td>\n",
       "      <td>0</td>\n",
       "      <td>0</td>\n",
       "      <td>0</td>\n",
       "      <td>1</td>\n",
       "      <td>0</td>\n",
       "      <td>...</td>\n",
       "      <td>1</td>\n",
       "      <td>0</td>\n",
       "      <td>1</td>\n",
       "      <td>0</td>\n",
       "      <td>1</td>\n",
       "      <td>0</td>\n",
       "      <td>1</td>\n",
       "      <td>0</td>\n",
       "      <td>1</td>\n",
       "      <td>0</td>\n",
       "    </tr>\n",
       "    <tr>\n",
       "      <th>88</th>\n",
       "      <td>1</td>\n",
       "      <td>0</td>\n",
       "      <td>1</td>\n",
       "      <td>0</td>\n",
       "      <td>0</td>\n",
       "      <td>1</td>\n",
       "      <td>0</td>\n",
       "      <td>0</td>\n",
       "      <td>0</td>\n",
       "      <td>0</td>\n",
       "      <td>...</td>\n",
       "      <td>1</td>\n",
       "      <td>0</td>\n",
       "      <td>1</td>\n",
       "      <td>0</td>\n",
       "      <td>1</td>\n",
       "      <td>0</td>\n",
       "      <td>1</td>\n",
       "      <td>0</td>\n",
       "      <td>1</td>\n",
       "      <td>0</td>\n",
       "    </tr>\n",
       "    <tr>\n",
       "      <th>89</th>\n",
       "      <td>0</td>\n",
       "      <td>1</td>\n",
       "      <td>1</td>\n",
       "      <td>0</td>\n",
       "      <td>0</td>\n",
       "      <td>0</td>\n",
       "      <td>0</td>\n",
       "      <td>0</td>\n",
       "      <td>0</td>\n",
       "      <td>0</td>\n",
       "      <td>...</td>\n",
       "      <td>1</td>\n",
       "      <td>0</td>\n",
       "      <td>1</td>\n",
       "      <td>0</td>\n",
       "      <td>1</td>\n",
       "      <td>0</td>\n",
       "      <td>1</td>\n",
       "      <td>0</td>\n",
       "      <td>1</td>\n",
       "      <td>0</td>\n",
       "    </tr>\n",
       "    <tr>\n",
       "      <th>90</th>\n",
       "      <td>1</td>\n",
       "      <td>0</td>\n",
       "      <td>0</td>\n",
       "      <td>1</td>\n",
       "      <td>1</td>\n",
       "      <td>0</td>\n",
       "      <td>0</td>\n",
       "      <td>0</td>\n",
       "      <td>0</td>\n",
       "      <td>0</td>\n",
       "      <td>...</td>\n",
       "      <td>1</td>\n",
       "      <td>0</td>\n",
       "      <td>1</td>\n",
       "      <td>0</td>\n",
       "      <td>1</td>\n",
       "      <td>0</td>\n",
       "      <td>1</td>\n",
       "      <td>0</td>\n",
       "      <td>1</td>\n",
       "      <td>0</td>\n",
       "    </tr>\n",
       "    <tr>\n",
       "      <th>94</th>\n",
       "      <td>1</td>\n",
       "      <td>0</td>\n",
       "      <td>0</td>\n",
       "      <td>1</td>\n",
       "      <td>0</td>\n",
       "      <td>0</td>\n",
       "      <td>0</td>\n",
       "      <td>0</td>\n",
       "      <td>0</td>\n",
       "      <td>0</td>\n",
       "      <td>...</td>\n",
       "      <td>0</td>\n",
       "      <td>1</td>\n",
       "      <td>1</td>\n",
       "      <td>0</td>\n",
       "      <td>1</td>\n",
       "      <td>0</td>\n",
       "      <td>1</td>\n",
       "      <td>0</td>\n",
       "      <td>1</td>\n",
       "      <td>0</td>\n",
       "    </tr>\n",
       "  </tbody>\n",
       "</table>\n",
       "<p>5 rows × 52 columns</p>\n",
       "</div>"
      ],
      "text/plain": [
       "    Severity_Mild  Severity_Severe  Side_L  Side_R  Wind_Direction_CALM  \\\n",
       "87              1                0       0       1                    0   \n",
       "88              1                0       1       0                    0   \n",
       "89              0                1       1       0                    0   \n",
       "90              1                0       0       1                    1   \n",
       "94              1                0       0       1                    0   \n",
       "\n",
       "    Wind_Direction_E  Wind_Direction_ENE  Wind_Direction_ESE  \\\n",
       "87                 0                   0                   0   \n",
       "88                 1                   0                   0   \n",
       "89                 0                   0                   0   \n",
       "90                 0                   0                   0   \n",
       "94                 0                   0                   0   \n",
       "\n",
       "    Wind_Direction_N  Wind_Direction_NE  ...  Traffic_Signal_False  \\\n",
       "87                 1                  0  ...                     1   \n",
       "88                 0                  0  ...                     1   \n",
       "89                 0                  0  ...                     1   \n",
       "90                 0                  0  ...                     1   \n",
       "94                 0                  0  ...                     0   \n",
       "\n",
       "    Traffic_Signal_True  Sunrise_Sunset_Day  Sunrise_Sunset_Night  \\\n",
       "87                    0                   1                     0   \n",
       "88                    0                   1                     0   \n",
       "89                    0                   1                     0   \n",
       "90                    0                   1                     0   \n",
       "94                    1                   1                     0   \n",
       "\n",
       "    Civil_Twilight_Day  Civil_Twilight_Night  Nautical_Twilight_Day  \\\n",
       "87                   1                     0                      1   \n",
       "88                   1                     0                      1   \n",
       "89                   1                     0                      1   \n",
       "90                   1                     0                      1   \n",
       "94                   1                     0                      1   \n",
       "\n",
       "    Nautical_Twilight_Night  Astronomical_Twilight_Day  \\\n",
       "87                        0                          1   \n",
       "88                        0                          1   \n",
       "89                        0                          1   \n",
       "90                        0                          1   \n",
       "94                        0                          1   \n",
       "\n",
       "    Astronomical_Twilight_Night  \n",
       "87                            0  \n",
       "88                            0  \n",
       "89                            0  \n",
       "90                            0  \n",
       "94                            0  \n",
       "\n",
       "[5 rows x 52 columns]"
      ]
     },
     "execution_count": 218,
     "metadata": {},
     "output_type": "execute_result"
    }
   ],
   "source": [
    "# Now, we onehot encode the data -- for reference, this is the process of converting categorical variables to a usable form for \n",
    "# a machine learning algorithm.\n",
    "\n",
    "cat_cols = accidentsKnn.select_dtypes(include='category').columns\n",
    "print(cat_cols)\n",
    "\n",
    "encoded = pd.get_dummies(accidentsKnn[cat_cols])\n",
    "encoded.head()   # note the new columns"
   ]
  },
  {
   "cell_type": "code",
   "execution_count": 219,
   "metadata": {},
   "outputs": [
    {
     "name": "stdout",
     "output_type": "stream",
     "text": [
      "<class 'pandas.core.frame.DataFrame'>\n",
      "Int64Index: 875 entries, 87 to 2039\n",
      "Data columns (total 61 columns):\n",
      " #   Column                                     Non-Null Count  Dtype  \n",
      "---  ------                                     --------------  -----  \n",
      " 0   Distance.mi.                               450 non-null    float64\n",
      " 1   Temperature.F.                             450 non-null    float64\n",
      " 2   Wind_Chill.F.                              450 non-null    float64\n",
      " 3   Humidity...                                450 non-null    float64\n",
      " 4   Pressure.in.                               450 non-null    float64\n",
      " 5   Visibility.mi.                             450 non-null    float64\n",
      " 6   Wind_Speed.mph.                            450 non-null    float64\n",
      " 7   Precipitation.in.                          450 non-null    float64\n",
      " 8   Stop                                       875 non-null    bool   \n",
      " 9   Severity_Mild                              875 non-null    uint8  \n",
      " 10  Severity_Severe                            875 non-null    uint8  \n",
      " 11  Side_L                                     875 non-null    uint8  \n",
      " 12  Side_R                                     875 non-null    uint8  \n",
      " 13  Wind_Direction_CALM                        875 non-null    uint8  \n",
      " 14  Wind_Direction_E                           875 non-null    uint8  \n",
      " 15  Wind_Direction_ENE                         875 non-null    uint8  \n",
      " 16  Wind_Direction_ESE                         875 non-null    uint8  \n",
      " 17  Wind_Direction_N                           875 non-null    uint8  \n",
      " 18  Wind_Direction_NE                          875 non-null    uint8  \n",
      " 19  Wind_Direction_NNE                         875 non-null    uint8  \n",
      " 20  Wind_Direction_NNW                         875 non-null    uint8  \n",
      " 21  Wind_Direction_NW                          875 non-null    uint8  \n",
      " 22  Wind_Direction_S                           875 non-null    uint8  \n",
      " 23  Wind_Direction_SE                          875 non-null    uint8  \n",
      " 24  Wind_Direction_SSE                         875 non-null    uint8  \n",
      " 25  Wind_Direction_SSW                         875 non-null    uint8  \n",
      " 26  Wind_Direction_SW                          875 non-null    uint8  \n",
      " 27  Wind_Direction_VAR                         875 non-null    uint8  \n",
      " 28  Wind_Direction_W                           875 non-null    uint8  \n",
      " 29  Wind_Direction_WNW                         875 non-null    uint8  \n",
      " 30  Wind_Direction_WSW                         875 non-null    uint8  \n",
      " 31  Weather_Condition_Cloudy                   875 non-null    uint8  \n",
      " 32  Weather_Condition_Fair                     875 non-null    uint8  \n",
      " 33  Weather_Condition_Fog                      875 non-null    uint8  \n",
      " 34  Weather_Condition_Heavy Rain               875 non-null    uint8  \n",
      " 35  Weather_Condition_Light Freezing Rain      875 non-null    uint8  \n",
      " 36  Weather_Condition_Light Rain               875 non-null    uint8  \n",
      " 37  Weather_Condition_Light Rain with Thunder  875 non-null    uint8  \n",
      " 38  Weather_Condition_Light Snow               875 non-null    uint8  \n",
      " 39  Weather_Condition_Mostly Cloudy            875 non-null    uint8  \n",
      " 40  Weather_Condition_Overcast                 875 non-null    uint8  \n",
      " 41  Weather_Condition_Partly Cloudy            875 non-null    uint8  \n",
      " 42  Weather_Condition_Rain                     875 non-null    uint8  \n",
      " 43  Weather_Condition_T-Storm                  875 non-null    uint8  \n",
      " 44  Weather_Condition_Thunder                  875 non-null    uint8  \n",
      " 45  Weather_Condition_Thunder in the Vicinity  875 non-null    uint8  \n",
      " 46  Weather_Condition_Wintry Mix               875 non-null    uint8  \n",
      " 47  Crossing_False                             875 non-null    uint8  \n",
      " 48  Crossing_True                              875 non-null    uint8  \n",
      " 49  Junction_False                             875 non-null    uint8  \n",
      " 50  Junction_True                              875 non-null    uint8  \n",
      " 51  Traffic_Signal_False                       875 non-null    uint8  \n",
      " 52  Traffic_Signal_True                        875 non-null    uint8  \n",
      " 53  Sunrise_Sunset_Day                         875 non-null    uint8  \n",
      " 54  Sunrise_Sunset_Night                       875 non-null    uint8  \n",
      " 55  Civil_Twilight_Day                         875 non-null    uint8  \n",
      " 56  Civil_Twilight_Night                       875 non-null    uint8  \n",
      " 57  Nautical_Twilight_Day                      875 non-null    uint8  \n",
      " 58  Nautical_Twilight_Night                    875 non-null    uint8  \n",
      " 59  Astronomical_Twilight_Day                  875 non-null    uint8  \n",
      " 60  Astronomical_Twilight_Night                875 non-null    uint8  \n",
      "dtypes: bool(1), float64(8), uint8(52)\n",
      "memory usage: 139.1 KB\n",
      "None\n"
     ]
    }
   ],
   "source": [
    "\n",
    "# now we want to drop the old columns we onehot encoded \n",
    "accidentsKnn = accidentsKnn.drop(cat_cols, axis=1)\n",
    "\n",
    "# and then join them\n",
    "accidentsKnn = accidentsKnn.join(encoded)\n",
    "\n",
    "print(accidentsKnn.info())"
   ]
  },
  {
   "cell_type": "code",
   "execution_count": 220,
   "metadata": {},
   "outputs": [],
   "source": [
    "accidentsKnn = accidentsKnn.dropna()"
   ]
  },
  {
   "cell_type": "code",
   "execution_count": 221,
   "metadata": {},
   "outputs": [
    {
     "name": "stdout",
     "output_type": "stream",
     "text": [
      "0.18888888888888888\n"
     ]
    }
   ],
   "source": [
    "# -------- Train model! -------- Check Prevalence\n",
    "print(accidentsKnn['Severity_Severe'].value_counts()[1] / accidentsKnn ['Severity_Severe'].count())\n",
    "# This means that at random, we have an 11.6% chance of correctly picking a subscribed individual. Let's see if kNN can do any better."
   ]
  },
  {
   "cell_type": "code",
   "execution_count": 222,
   "metadata": {},
   "outputs": [],
   "source": [
    "train, test = train_test_split(accidentsKnn,  test_size=0.4, stratify = accidentsKnn['Severity_Severe']) \n",
    "test, val = train_test_split(test, test_size=0.4, stratify=test['Severity_Severe'])\n"
   ]
  },
  {
   "cell_type": "code",
   "execution_count": 225,
   "metadata": {},
   "outputs": [
    {
     "data": {
      "text/html": [
       "<style>#sk-container-id-3 {color: black;}#sk-container-id-3 pre{padding: 0;}#sk-container-id-3 div.sk-toggleable {background-color: white;}#sk-container-id-3 label.sk-toggleable__label {cursor: pointer;display: block;width: 100%;margin-bottom: 0;padding: 0.3em;box-sizing: border-box;text-align: center;}#sk-container-id-3 label.sk-toggleable__label-arrow:before {content: \"▸\";float: left;margin-right: 0.25em;color: #696969;}#sk-container-id-3 label.sk-toggleable__label-arrow:hover:before {color: black;}#sk-container-id-3 div.sk-estimator:hover label.sk-toggleable__label-arrow:before {color: black;}#sk-container-id-3 div.sk-toggleable__content {max-height: 0;max-width: 0;overflow: hidden;text-align: left;background-color: #f0f8ff;}#sk-container-id-3 div.sk-toggleable__content pre {margin: 0.2em;color: black;border-radius: 0.25em;background-color: #f0f8ff;}#sk-container-id-3 input.sk-toggleable__control:checked~div.sk-toggleable__content {max-height: 200px;max-width: 100%;overflow: auto;}#sk-container-id-3 input.sk-toggleable__control:checked~label.sk-toggleable__label-arrow:before {content: \"▾\";}#sk-container-id-3 div.sk-estimator input.sk-toggleable__control:checked~label.sk-toggleable__label {background-color: #d4ebff;}#sk-container-id-3 div.sk-label input.sk-toggleable__control:checked~label.sk-toggleable__label {background-color: #d4ebff;}#sk-container-id-3 input.sk-hidden--visually {border: 0;clip: rect(1px 1px 1px 1px);clip: rect(1px, 1px, 1px, 1px);height: 1px;margin: -1px;overflow: hidden;padding: 0;position: absolute;width: 1px;}#sk-container-id-3 div.sk-estimator {font-family: monospace;background-color: #f0f8ff;border: 1px dotted black;border-radius: 0.25em;box-sizing: border-box;margin-bottom: 0.5em;}#sk-container-id-3 div.sk-estimator:hover {background-color: #d4ebff;}#sk-container-id-3 div.sk-parallel-item::after {content: \"\";width: 100%;border-bottom: 1px solid gray;flex-grow: 1;}#sk-container-id-3 div.sk-label:hover label.sk-toggleable__label {background-color: #d4ebff;}#sk-container-id-3 div.sk-serial::before {content: \"\";position: absolute;border-left: 1px solid gray;box-sizing: border-box;top: 0;bottom: 0;left: 50%;z-index: 0;}#sk-container-id-3 div.sk-serial {display: flex;flex-direction: column;align-items: center;background-color: white;padding-right: 0.2em;padding-left: 0.2em;position: relative;}#sk-container-id-3 div.sk-item {position: relative;z-index: 1;}#sk-container-id-3 div.sk-parallel {display: flex;align-items: stretch;justify-content: center;background-color: white;position: relative;}#sk-container-id-3 div.sk-item::before, #sk-container-id-3 div.sk-parallel-item::before {content: \"\";position: absolute;border-left: 1px solid gray;box-sizing: border-box;top: 0;bottom: 0;left: 50%;z-index: -1;}#sk-container-id-3 div.sk-parallel-item {display: flex;flex-direction: column;z-index: 1;position: relative;background-color: white;}#sk-container-id-3 div.sk-parallel-item:first-child::after {align-self: flex-end;width: 50%;}#sk-container-id-3 div.sk-parallel-item:last-child::after {align-self: flex-start;width: 50%;}#sk-container-id-3 div.sk-parallel-item:only-child::after {width: 0;}#sk-container-id-3 div.sk-dashed-wrapped {border: 1px dashed gray;margin: 0 0.4em 0.5em 0.4em;box-sizing: border-box;padding-bottom: 0.4em;background-color: white;}#sk-container-id-3 div.sk-label label {font-family: monospace;font-weight: bold;display: inline-block;line-height: 1.2em;}#sk-container-id-3 div.sk-label-container {text-align: center;}#sk-container-id-3 div.sk-container {/* jupyter's `normalize.less` sets `[hidden] { display: none; }` but bootstrap.min.css set `[hidden] { display: none !important; }` so we also need the `!important` here to be able to override the default hidden behavior on the sphinx rendered scikit-learn.org. See: https://github.com/scikit-learn/scikit-learn/issues/21755 */display: inline-block !important;position: relative;}#sk-container-id-3 div.sk-text-repr-fallback {display: none;}</style><div id=\"sk-container-id-3\" class=\"sk-top-container\"><div class=\"sk-text-repr-fallback\"><pre>KNeighborsClassifier(n_neighbors=9)</pre><b>In a Jupyter environment, please rerun this cell to show the HTML representation or trust the notebook. <br />On GitHub, the HTML representation is unable to render, please try loading this page with nbviewer.org.</b></div><div class=\"sk-container\" hidden><div class=\"sk-item\"><div class=\"sk-estimator sk-toggleable\"><input class=\"sk-toggleable__control sk-hidden--visually\" id=\"sk-estimator-id-3\" type=\"checkbox\" checked><label for=\"sk-estimator-id-3\" class=\"sk-toggleable__label sk-toggleable__label-arrow\">KNeighborsClassifier</label><div class=\"sk-toggleable__content\"><pre>KNeighborsClassifier(n_neighbors=9)</pre></div></div></div></div></div>"
      ],
      "text/plain": [
       "KNeighborsClassifier(n_neighbors=9)"
      ]
     },
     "execution_count": 225,
     "metadata": {},
     "output_type": "execute_result"
    }
   ],
   "source": [
    "# now, let's train the classifier for k=9\n",
    "import random\n",
    "random.seed(1984)   # kNN is a random algorithm, so we use `random.seed(x)` to make results repeatable\n",
    "\n",
    "X_train = train.drop(['Severity_Severe'], axis=1).values\n",
    "y_train = train['Severity_Severe'].values\n",
    "\n",
    "neigh = KNeighborsClassifier(n_neighbors=9)\n",
    "neigh.fit(X_train, y_train)"
   ]
  },
  {
   "cell_type": "code",
   "execution_count": 226,
   "metadata": {},
   "outputs": [
    {
     "name": "stdout",
     "output_type": "stream",
     "text": [
      "0.875\n"
     ]
    }
   ],
   "source": [
    "# now, we check the model's accuracy on the test data:\n",
    "\n",
    "X_val = val.drop(['Severity_Severe'], axis=1).values\n",
    "y_val = val['Severity_Severe'].values\n",
    "\n",
    "print(neigh.score(X_val, y_val))"
   ]
  },
  {
   "cell_type": "code",
   "execution_count": 227,
   "metadata": {},
   "outputs": [
    {
     "name": "stdout",
     "output_type": "stream",
     "text": [
      "0.8796296296296297\n"
     ]
    }
   ],
   "source": [
    "# now, we test the accuracy on our validation data.\n",
    "\n",
    "X_test = test.drop(['Severity_Severe'], axis=1).values\n",
    "y_test = test['Severity_Severe'].values\n",
    "\n",
    "print(neigh.score(X_test, y_test))"
   ]
  },
  {
   "cell_type": "code",
   "execution_count": 228,
   "metadata": {},
   "outputs": [
    {
     "data": {
      "image/png": "[encoded data removed]",
      "text/plain": [
       "<Figure size 640x480 with 2 Axes>"
      ]
     },
     "metadata": {},
     "output_type": "display_data"
    }
   ],
   "source": [
    "# -------- Evaluate model --------\n",
    "\n",
    "# create a confusion matrix\n",
    "y_val_pred = neigh.predict(X_val)\n",
    "\n",
    "from sklearn.metrics import confusion_matrix, ConfusionMatrixDisplay\n",
    "\n",
    "cm = confusion_matrix(y_val,y_val_pred, labels=neigh.classes_)\n",
    "disp=ConfusionMatrixDisplay(confusion_matrix=cm, display_labels=neigh.classes_)  \n",
    "disp.plot()\n",
    "plt.show()"
   ]
  },
  {
   "cell_type": "code",
   "execution_count": 229,
   "metadata": {},
   "outputs": [
    {
     "name": "stdout",
     "output_type": "stream",
     "text": [
      "              precision    recall  f1-score   support\n",
      "\n",
      "           0       1.00      0.87      0.93        67\n",
      "           1       0.36      1.00      0.53         5\n",
      "\n",
      "    accuracy                           0.88        72\n",
      "   macro avg       0.68      0.93      0.73        72\n",
      "weighted avg       0.96      0.87      0.90        72\n",
      "\n"
     ]
    }
   ],
   "source": [
    "# create a classification report\n",
    "# create classification report\n",
    "from sklearn.metrics import classification_report\n",
    "\n",
    "print(classification_report(y_val_pred, y_val))"
   ]
  },
  {
   "cell_type": "code",
   "execution_count": 249,
   "metadata": {},
   "outputs": [
    {
     "name": "stdout",
     "output_type": "stream",
     "text": [
      "Sensitivity: 0.35714285714285715 Specificity: 1.0\n"
     ]
    }
   ],
   "source": [
    "\n",
    "# we didn't get sensitivity and specificity, so we'll calculate that ourselves.\n",
    "sensitivity = 5/(5+9)   # = TP/(TP+FN)\n",
    "specificity = 58/(58+0)   # = TN/(TN+FP)\n",
    "print('Sensitivity: '+ str(sensitivity) + ' Specificity: ' + str(specificity))"
   ]
  },
  {
   "cell_type": "code",
   "execution_count": 231,
   "metadata": {},
   "outputs": [
    {
     "name": "stdout",
     "output_type": "stream",
     "text": [
      "calculating...  1 k\n",
      "calculating...  3 k\n",
      "calculating...  5 k\n",
      "calculating...  7 k\n",
      "calculating...  9 k\n",
      "calculating...  11 k\n",
      "calculating...  13 k\n",
      "calculating...  15 k\n",
      "calculating...  17 k\n",
      "calculating...  19 k\n",
      "calculating...  21 k\n",
      "   k      accu\n",
      "0  1  0.888889\n",
      "1  3  0.851852\n",
      "2  5  0.888889\n",
      "3  7  0.833333\n",
      "4  9  0.879630\n",
      "     k      accu\n",
      "8   17  0.907407\n",
      "9   19  0.907407\n",
      "10  21  0.907407\n",
      "6   13  0.898148\n",
      "0    1  0.888889\n"
     ]
    }
   ],
   "source": [
    "# ------- Selecting the correct 'k' ---------\n",
    "def chooseK(k, X_train, y_train, X_test, y_test):\n",
    "    random.seed(1)\n",
    "    print(\"calculating... \", k, \"k\")    # I'll include this so you can see the progress of the function as it runs\n",
    "    class_knn = KNeighborsClassifier(n_neighbors=k)\n",
    "    class_knn.fit(X_train, y_train)\n",
    "    \n",
    "    # calculate accuracy\n",
    "    accu = class_knn.score(X_test, y_test)\n",
    "    return accu\n",
    "\n",
    "# We'll test odd k values from 1 to 21. We want to create a table of all the data, so we'll use list comprehension to create \n",
    "# the \"accuracy\" column. \n",
    "\n",
    "#%%\n",
    "# REMEMBER: Python is end-exclusive; we want UP to 21 to we'll have to extend the end bound to include it\n",
    "test = pd.DataFrame({'k':list(range(1,22,2)), \n",
    "                     'accu':[chooseK(i, X_train, y_train, X_test, y_test) for i in list(range(1, 22, 2))]})\n",
    "\n",
    "#%%\n",
    "print(test.head())\n",
    "\n",
    "#%%\n",
    "test = test.sort_values(by=['accu'], ascending=False)\n",
    "print(test.head())"
   ]
  },
  {
   "cell_type": "code",
   "execution_count": 232,
   "metadata": {},
   "outputs": [
    {
     "data": {
      "image/png": "[encoded data removed]",
      "text/plain": [
       "<Figure size 640x480 with 1 Axes>"
      ]
     },
     "metadata": {},
     "output_type": "display_data"
    }
   ],
   "source": [
    "plt.plot(test['k'], test['accu'])\n",
    "plt.xlabel('k')\n",
    "plt.ylabel('Accuracy')\n",
    "plt.title('Model Accuracy')\n",
    "plt.show()"
   ]
  },
  {
   "cell_type": "code",
   "execution_count": 233,
   "metadata": {},
   "outputs": [],
   "source": [
    "# Staying on k = 9"
   ]
  },
  {
   "cell_type": "code",
   "execution_count": 234,
   "metadata": {},
   "outputs": [],
   "source": [
    "# -------- Adjusting the threshold --------\n",
    "# we want to make a table containing: probability, expected, and actual values\n",
    "\n",
    "test_probs = neigh.predict_proba(X_test)\n",
    "test_preds = neigh.predict(X_test)"
   ]
  },
  {
   "cell_type": "code",
   "execution_count": 235,
   "metadata": {},
   "outputs": [
    {
     "data": {
      "text/html": [
       "<div>\n",
       "<style scoped>\n",
       "    .dataframe tbody tr th:only-of-type {\n",
       "        vertical-align: middle;\n",
       "    }\n",
       "\n",
       "    .dataframe tbody tr th {\n",
       "        vertical-align: top;\n",
       "    }\n",
       "\n",
       "    .dataframe thead th {\n",
       "        text-align: right;\n",
       "    }\n",
       "</style>\n",
       "<table border=\"1\" class=\"dataframe\">\n",
       "  <thead>\n",
       "    <tr style=\"text-align: right;\">\n",
       "      <th></th>\n",
       "      <th>actual_class</th>\n",
       "      <th>pred_class</th>\n",
       "      <th>pred_prob</th>\n",
       "    </tr>\n",
       "  </thead>\n",
       "  <tbody>\n",
       "    <tr>\n",
       "      <th>0</th>\n",
       "      <td>0</td>\n",
       "      <td>0</td>\n",
       "      <td>0.000000</td>\n",
       "    </tr>\n",
       "    <tr>\n",
       "      <th>1</th>\n",
       "      <td>0</td>\n",
       "      <td>0</td>\n",
       "      <td>0.000000</td>\n",
       "    </tr>\n",
       "    <tr>\n",
       "      <th>2</th>\n",
       "      <td>0</td>\n",
       "      <td>0</td>\n",
       "      <td>0.000000</td>\n",
       "    </tr>\n",
       "    <tr>\n",
       "      <th>3</th>\n",
       "      <td>0</td>\n",
       "      <td>0</td>\n",
       "      <td>0.111111</td>\n",
       "    </tr>\n",
       "    <tr>\n",
       "      <th>4</th>\n",
       "      <td>0</td>\n",
       "      <td>0</td>\n",
       "      <td>0.000000</td>\n",
       "    </tr>\n",
       "  </tbody>\n",
       "</table>\n",
       "</div>"
      ],
      "text/plain": [
       "   actual_class  pred_class  pred_prob\n",
       "0             0           0   0.000000\n",
       "1             0           0   0.000000\n",
       "2             0           0   0.000000\n",
       "3             0           0   0.111111\n",
       "4             0           0   0.000000"
      ]
     },
     "execution_count": 235,
     "metadata": {},
     "output_type": "execute_result"
    }
   ],
   "source": [
    "\n",
    "# convert probabilities to pd df\n",
    "test_probabilities = pd.DataFrame(test_probs, columns = ['Mild', 'Severe'])\n",
    "test_probabilities.head()\n",
    "#%%\n",
    "final_model = pd.DataFrame({'actual_class': y_test.tolist(),\n",
    "                           'pred_class': test_preds.tolist(),\n",
    "                           'pred_prob': test_probabilities['Severe']})\n",
    "final_model.head()"
   ]
  },
  {
   "cell_type": "code",
   "execution_count": 236,
   "metadata": {},
   "outputs": [],
   "source": [
    "# convert classes to categories\n",
    "final_model.actual_class = final_model.actual_class.astype('category')\n",
    "final_model.pred_class = final_model.pred_class.astype('category')"
   ]
  },
  {
   "cell_type": "code",
   "execution_count": 237,
   "metadata": {},
   "outputs": [
    {
     "data": {
      "text/plain": [
       "<seaborn.axisgrid.FacetGrid at 0x15a300790>"
      ]
     },
     "execution_count": 237,
     "metadata": {},
     "output_type": "execute_result"
    },
    {
     "data": {
      "image/png": "[encoded data removed]",
      "text/plain": [
       "<Figure size 500x500 with 1 Axes>"
      ]
     },
     "metadata": {},
     "output_type": "display_data"
    }
   ],
   "source": [
    "# create probability distribution graph\n",
    "import seaborn as sns\n",
    "\n",
    "sns.displot(final_model, x=\"pred_prob\", kind=\"kde\")"
   ]
  },
  {
   "cell_type": "code",
   "execution_count": 238,
   "metadata": {},
   "outputs": [
    {
     "name": "stdout",
     "output_type": "stream",
     "text": [
      "0.000000    55\n",
      "0.111111    23\n",
      "0.444444    11\n",
      "0.222222     7\n",
      "0.333333     5\n",
      "0.777778     3\n",
      "0.555556     2\n",
      "1.000000     1\n",
      "0.666667     1\n",
      "Name: pred_prob, dtype: int64\n"
     ]
    }
   ],
   "source": [
    "print(final_model.pred_prob.value_counts())"
   ]
  },
  {
   "cell_type": "code",
   "execution_count": 240,
   "metadata": {},
   "outputs": [
    {
     "name": "stdout",
     "output_type": "stream",
     "text": [
      "[[88  0]\n",
      " [13  7]]\n",
      "[[88  0]\n",
      " [19  1]]\n",
      "None\n",
      "[[75 13]\n",
      " [ 3 17]]\n",
      "None\n"
     ]
    }
   ],
   "source": [
    "\n",
    "# In most datasets, the probabilities range between 0 and 1, causing uncertain predictions. A threshold must be set for \n",
    "# where you consider the prediction to actually be a part of the positive class.\n",
    "# This is where you have more control over your model's classifications. **This is especially useful for reducing incorrect \n",
    "# classifications that you may have noticed in your confusion matrix.**\n",
    "\n",
    "from sklearn.metrics import confusion_matrix\n",
    "\n",
    "def adjust_thres(x, y, z):\n",
    "    thres = pd.DataFrame({'new_preds': [1 if i > y else 0 for i in x]})\n",
    "    thres.new_preds = thres.new_preds.astype('category')\n",
    "    con_mat = confusion_matrix(z, thres)  \n",
    "    print(con_mat)\n",
    "\n",
    "\n",
    "print(confusion_matrix(final_model.actual_class, final_model.pred_class))   # original model\n",
    "\n",
    "print(adjust_thres(final_model.pred_prob, .90, final_model.actual_class))   # raise threshold \n",
    "\n",
    "print(adjust_thres(final_model.pred_prob, .2, final_model.actual_class))   # lower threshold\n"
   ]
  },
  {
   "cell_type": "code",
   "execution_count": null,
   "metadata": {},
   "outputs": [],
   "source": [
    "#Threshold of 0.2 is best for our research"
   ]
  },
  {
   "cell_type": "markdown",
   "metadata": {},
   "source": [
    "## Visually Display Random Forest Model"
   ]
  },
  {
   "cell_type": "markdown",
   "metadata": {},
   "source": [
    "##### Use shift to select multiple features"
   ]
  },
  {
   "cell_type": "code",
   "execution_count": 245,
   "metadata": {},
   "outputs": [
    {
     "data": {
      "application/vnd.jupyter.widget-view+json": {
       "model_id": "77efb2a25e3443c587d2ad7476889b85",
       "version_major": 2,
       "version_minor": 0
      },
      "text/plain": [
       "interactive(children=(SelectMultiple(description='Select Features:', index=(0, 1, 2), options=('Distance.mi.',…"
      ]
     },
     "metadata": {},
     "output_type": "display_data"
    }
   ],
   "source": [
    "import pandas as pd\n",
    "from sklearn.model_selection import train_test_split\n",
    "from sklearn.ensemble import RandomForestClassifier\n",
    "from sklearn.metrics import accuracy_score, confusion_matrix\n",
    "from sklearn.impute import SimpleImputer\n",
    "import ipywidgets as widgets\n",
    "from IPython.display import display\n",
    "import seaborn as sns\n",
    "import matplotlib.pyplot as plt\n",
    "import voila\n",
    "\n",
    "# Load your dataset\n",
    "df = pd.read_csv('cville_accidentsModel.csv')\n",
    "\n",
    "# Columns for feature selection\n",
    "feature_columns = ['Distance.mi.', 'Temperature.F.', 'Wind_Chill.F.', 'Humidity...',\n",
    "       'Pressure.in.', 'Visibility.mi.', 'Wind_Speed.mph.',\n",
    "       'Precipitation.in.']\n",
    "\n",
    "# Create feature selection widget\n",
    "feature_selection = widgets.SelectMultiple(\n",
    "    options=feature_columns,\n",
    "    value=feature_columns[:3],  # Default selected features\n",
    "    description='Select Features:'\n",
    ")\n",
    "\n",
    "# Function to update the dashboard based on user selection\n",
    "def update_dashboard(features):\n",
    "    # Select features from the dataset\n",
    "    selected_features = df[list(features)]\n",
    "\n",
    "    # Impute missing values with the mean of each column\n",
    "    imputer = SimpleImputer(strategy='mean')\n",
    "    selected_features_imputed = pd.DataFrame(imputer.fit_transform(selected_features), columns=selected_features.columns)\n",
    "\n",
    "    # Split the data into training and testing sets\n",
    "    X_train, X_test, y_train, y_test = train_test_split(selected_features_imputed, df['Severity'], test_size=0.3, random_state=42)\n",
    "\n",
    "    # Train the random forest model\n",
    "    model = RandomForestClassifier()\n",
    "    model.fit(X_train, y_train)\n",
    "\n",
    "    # Make predictions on the test set\n",
    "    predictions = model.predict(X_test)\n",
    "\n",
    "    # Calculate accuracy\n",
    "    accuracy = accuracy_score(y_test, predictions)\n",
    "\n",
    "    # Generate confusion matrix\n",
    "    conf_matrix = confusion_matrix(y_test, predictions)\n",
    "\n",
    "    # Display accuracy and confusion matrix\n",
    "    print(f'Accuracy: {accuracy:.2f}')\n",
    "    print('Confusion Matrix:')\n",
    "    print(conf_matrix)\n",
    "\n",
    "    # Plot confusion matrix\n",
    "    plt.figure(figsize=(8, 6))\n",
    "    sns.heatmap(conf_matrix, annot=True, fmt='d', cmap='Blues', cbar=False, xticklabels=model.classes_, yticklabels=model.classes_)\n",
    "    plt.title('Confusion Matrix')\n",
    "    plt.xlabel('Predicted')\n",
    "    plt.ylabel('True')\n",
    "    plt.show()\n",
    "\n",
    "# Interactive dashboard\n",
    "interactive_dashboard = widgets.interactive(update_dashboard, features=feature_selection)\n",
    "display(interactive_dashboard)\n",
    "\n"
   ]
  },
  {
   "cell_type": "markdown",
   "metadata": {},
   "source": [
    "## Visually Display Knn Model"
   ]
  },
  {
   "cell_type": "markdown",
   "metadata": {},
   "source": [
    "##### Use shift to select multiple features"
   ]
  },
  {
   "cell_type": "code",
   "execution_count": 243,
   "metadata": {},
   "outputs": [
    {
     "data": {
      "application/vnd.jupyter.widget-view+json": {
       "model_id": "3538f9f6f3ea4769a0f4a99e5ef4b705",
       "version_major": 2,
       "version_minor": 0
      },
      "text/plain": [
       "interactive(children=(SelectMultiple(description='Select Features:', index=(0, 1, 2), options=('Distance.mi.',…"
      ]
     },
     "metadata": {},
     "output_type": "display_data"
    }
   ],
   "source": [
    "import pandas as pd\n",
    "from sklearn.model_selection import train_test_split\n",
    "from sklearn.neighbors import KNeighborsClassifier\n",
    "from sklearn.metrics import accuracy_score, confusion_matrix\n",
    "from sklearn.impute import SimpleImputer\n",
    "import ipywidgets as widgets\n",
    "from IPython.display import display\n",
    "import seaborn as sns\n",
    "import matplotlib.pyplot as plt\n",
    "import voila\n",
    "\n",
    "# Load your dataset\n",
    "df = pd.read_csv('cville_accidentsModel.csv')\n",
    "\n",
    "# Columns for feature selection\n",
    "feature_columns = ['Distance.mi.', 'Temperature.F.', 'Wind_Chill.F.', 'Humidity...',\n",
    "       'Pressure.in.', 'Visibility.mi.', 'Wind_Speed.mph.',\n",
    "       'Precipitation.in.']\n",
    "\n",
    "# Create feature selection widget\n",
    "feature_selection = widgets.SelectMultiple(\n",
    "    options=feature_columns,\n",
    "    value=feature_columns[:3],  # Default selected features\n",
    "    description='Select Features:'\n",
    ")\n",
    "\n",
    "# Function to update the dashboard based on user selection\n",
    "def update_dashboard(features):\n",
    "    # Select features from the dataset\n",
    "    selected_features = df[list(features)]\n",
    "\n",
    "    # Impute missing values with the mean of each column\n",
    "    imputer = SimpleImputer(strategy='mean')\n",
    "    selected_features_imputed = pd.DataFrame(imputer.fit_transform(selected_features), columns=selected_features.columns)\n",
    "\n",
    "    # Split the data into training and testing sets\n",
    "    X_train, X_test, y_train, y_test = train_test_split(selected_features_imputed, df['Severity'], test_size=0.3, random_state=42)\n",
    "\n",
    "    # Train the k-Nearest Neighbors model\n",
    "    model = KNeighborsClassifier()\n",
    "    model.fit(X_train, y_train)\n",
    "\n",
    "    # Make predictions on the test set\n",
    "    predictions = model.predict(X_test)\n",
    "\n",
    "    # Calculate accuracy\n",
    "    accuracy = accuracy_score(y_test, predictions)\n",
    "\n",
    "    # Generate confusion matrix\n",
    "    conf_matrix = confusion_matrix(y_test, predictions)\n",
    "\n",
    "    # Display accuracy and confusion matrix\n",
    "    print(f'Accuracy: {accuracy:.2f}')\n",
    "    print('Confusion Matrix:')\n",
    "    print(conf_matrix)\n",
    "\n",
    "    # Plot confusion matrix\n",
    "    plt.figure(figsize=(8, 6))\n",
    "    sns.heatmap(conf_matrix, annot=True, fmt='d', cmap='Greens', cbar=False, xticklabels=model.classes_, yticklabels=model.classes_)\n",
    "    plt.title('Confusion Matrix')\n",
    "    plt.xlabel('Predicted')\n",
    "    plt.ylabel('True')\n",
    "    plt.show()\n",
    "\n",
    "# Interactive dashboard\n",
    "interactive_dashboard = widgets.interactive(update_dashboard, features=feature_selection)\n",
    "display(interactive_dashboard)\n",
    "\n"
   ]
  },
  {
   "cell_type": "markdown",
   "metadata": {},
   "source": [
    "## Visually Display XGBoost Model"
   ]
  },
  {
   "cell_type": "markdown",
   "metadata": {},
   "source": [
    "##### Use shift to select multiple features"
   ]
  },
  {
   "cell_type": "code",
   "execution_count": 246,
   "metadata": {},
   "outputs": [
    {
     "data": {
      "application/vnd.jupyter.widget-view+json": {
       "model_id": "d54ceec9de52477db104c56871facebd",
       "version_major": 2,
       "version_minor": 0
      },
      "text/plain": [
       "interactive(children=(SelectMultiple(description='Select Features:', index=(0, 1, 2), options=('Distance.mi.',…"
      ]
     },
     "metadata": {},
     "output_type": "display_data"
    }
   ],
   "source": [
    "import pandas as pd\n",
    "from sklearn.model_selection import train_test_split\n",
    "from xgboost import XGBClassifier\n",
    "from sklearn.metrics import accuracy_score, confusion_matrix\n",
    "from sklearn.impute import SimpleImputer\n",
    "from sklearn.preprocessing import LabelEncoder\n",
    "import ipywidgets as widgets\n",
    "from IPython.display import display\n",
    "import seaborn as sns\n",
    "import matplotlib.pyplot as plt\n",
    "import voila\n",
    "\n",
    "# Load your dataset\n",
    "df = pd.read_csv('cville_accidentsModel.csv')\n",
    "\n",
    "# Columns for feature selection\n",
    "feature_columns = ['Distance.mi.', 'Temperature.F.', 'Wind_Chill.F.', 'Humidity...',\n",
    "       'Pressure.in.', 'Visibility.mi.', 'Wind_Speed.mph.',\n",
    "       'Precipitation.in.']\n",
    "\n",
    "# Encode the 'Severity' column\n",
    "label_encoder = LabelEncoder()\n",
    "df['Severity'] = label_encoder.fit_transform(df['Severity'])\n",
    "\n",
    "# Create feature selection widget\n",
    "feature_selection = widgets.SelectMultiple(\n",
    "    options=feature_columns,\n",
    "    value=feature_columns[:3],  # Default selected features\n",
    "    description='Select Features:'\n",
    ")\n",
    "\n",
    "# Function to update the dashboard based on user selection\n",
    "def update_dashboard(features):\n",
    "    # Select features from the dataset\n",
    "    selected_features = df[list(features)]\n",
    "\n",
    "    # Impute missing values with the mean of each column\n",
    "    imputer = SimpleImputer(strategy='mean')\n",
    "    selected_features_imputed = pd.DataFrame(imputer.fit_transform(selected_features), columns=selected_features.columns)\n",
    "\n",
    "    # Split the data into training and testing sets\n",
    "    X_train, X_test, y_train, y_test = train_test_split(selected_features_imputed, df['Severity'], test_size=0.3, random_state=42)\n",
    "\n",
    "    # Train the XGBoost model\n",
    "    model = XGBClassifier()\n",
    "    model.fit(X_train, y_train)\n",
    "\n",
    "    # Make predictions on the test set\n",
    "    predictions = model.predict(X_test)\n",
    "\n",
    "    # Calculate accuracy\n",
    "    accuracy = accuracy_score(y_test, predictions)\n",
    "\n",
    "    # Generate confusion matrix\n",
    "    conf_matrix = confusion_matrix(y_test, predictions)\n",
    "\n",
    "    # Display accuracy and confusion matrix\n",
    "    print(f'Accuracy: {accuracy:.2f}')\n",
    "    print('Confusion Matrix:')\n",
    "    print(conf_matrix)\n",
    "\n",
    "    # Plot confusion matrix with a different color\n",
    "    plt.figure(figsize=(8, 6))\n",
    "    sns.heatmap(conf_matrix, annot=True, fmt='d', cmap='Oranges', cbar=False, xticklabels=label_encoder.classes_, yticklabels=label_encoder.classes_)\n",
    "    plt.title('Confusion Matrix')\n",
    "    plt.xlabel('Predicted')\n",
    "    plt.ylabel('True')\n",
    "    plt.show()\n",
    "\n",
    "# Interactive dashboard\n",
    "interactive_dashboard = widgets.interactive(update_dashboard, features=feature_selection)\n",
    "display(interactive_dashboard)\n"
   ]
  },
  {
   "cell_type": "markdown",
   "metadata": {},
   "source": [
    "# Link to Shiny App Maps"
   ]
  },
  {
   "cell_type": "markdown",
   "metadata": {},
   "source": [
    "Maps showing accidents in the Charlottesville area & selected roads passing through Charlottesville. \n",
    "\n",
    "Variables can be altered on the map to see different trends."
   ]
  },
  {
   "cell_type": "markdown",
   "metadata": {},
   "source": [
    "[Traffic Accidents Report](https://amv7av.shinyapps.io/Traffic_Report/)"
   ]
  }
 ],
 "metadata": {
  "kernelspec": {
   "display_name": "Python 3",
   "language": "python",
   "name": "python3"
  },
  "language_info": {
   "codemirror_mode": {
    "name": "ipython",
    "version": 3
   },
   "file_extension": ".py",
   "mimetype": "text/x-python",
   "name": "python",
   "nbconvert_exporter": "python",
   "pygments_lexer": "ipython3",
   "version": "3.11.4"
  },
  "orig_nbformat": 4
 },
 "nbformat": 4,
 "nbformat_minor": 2
}
